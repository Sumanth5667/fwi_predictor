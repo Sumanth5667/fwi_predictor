{
 "cells": [
  {
   "cell_type": "code",
   "execution_count": 1,
   "id": "eaf52274",
   "metadata": {},
   "outputs": [],
   "source": [
    "import numpy as np\n",
    "import pandas as pd\n",
    "import matplotlib.pyplot as plt\n",
    "import seaborn as sns"
   ]
  },
  {
   "cell_type": "code",
   "execution_count": 2,
   "id": "4241ceca",
   "metadata": {},
   "outputs": [],
   "source": [
    "df=pd.read_csv('Algerian_forest_fires_cleaned_dataset.csv')"
   ]
  },
  {
   "cell_type": "code",
   "execution_count": 3,
   "id": "3f443c59",
   "metadata": {},
   "outputs": [
    {
     "data": {
      "text/html": [
       "<div>\n",
       "<style scoped>\n",
       "    .dataframe tbody tr th:only-of-type {\n",
       "        vertical-align: middle;\n",
       "    }\n",
       "\n",
       "    .dataframe tbody tr th {\n",
       "        vertical-align: top;\n",
       "    }\n",
       "\n",
       "    .dataframe thead th {\n",
       "        text-align: right;\n",
       "    }\n",
       "</style>\n",
       "<table border=\"1\" class=\"dataframe\">\n",
       "  <thead>\n",
       "    <tr style=\"text-align: right;\">\n",
       "      <th></th>\n",
       "      <th>day</th>\n",
       "      <th>month</th>\n",
       "      <th>year</th>\n",
       "      <th>Temperature</th>\n",
       "      <th>RH</th>\n",
       "      <th>Ws</th>\n",
       "      <th>Rain</th>\n",
       "      <th>FFMC</th>\n",
       "      <th>DMC</th>\n",
       "      <th>DC</th>\n",
       "      <th>ISI</th>\n",
       "      <th>BUI</th>\n",
       "      <th>FWI</th>\n",
       "      <th>Classes</th>\n",
       "      <th>Region</th>\n",
       "    </tr>\n",
       "  </thead>\n",
       "  <tbody>\n",
       "    <tr>\n",
       "      <th>0</th>\n",
       "      <td>1</td>\n",
       "      <td>6</td>\n",
       "      <td>2012</td>\n",
       "      <td>29</td>\n",
       "      <td>57</td>\n",
       "      <td>18</td>\n",
       "      <td>0.0</td>\n",
       "      <td>65.7</td>\n",
       "      <td>3.4</td>\n",
       "      <td>7.6</td>\n",
       "      <td>1.3</td>\n",
       "      <td>3.4</td>\n",
       "      <td>0.5</td>\n",
       "      <td>not fire</td>\n",
       "      <td>0</td>\n",
       "    </tr>\n",
       "    <tr>\n",
       "      <th>1</th>\n",
       "      <td>2</td>\n",
       "      <td>6</td>\n",
       "      <td>2012</td>\n",
       "      <td>29</td>\n",
       "      <td>61</td>\n",
       "      <td>13</td>\n",
       "      <td>1.3</td>\n",
       "      <td>64.4</td>\n",
       "      <td>4.1</td>\n",
       "      <td>7.6</td>\n",
       "      <td>1.0</td>\n",
       "      <td>3.9</td>\n",
       "      <td>0.4</td>\n",
       "      <td>not fire</td>\n",
       "      <td>0</td>\n",
       "    </tr>\n",
       "    <tr>\n",
       "      <th>2</th>\n",
       "      <td>3</td>\n",
       "      <td>6</td>\n",
       "      <td>2012</td>\n",
       "      <td>26</td>\n",
       "      <td>82</td>\n",
       "      <td>22</td>\n",
       "      <td>13.1</td>\n",
       "      <td>47.1</td>\n",
       "      <td>2.5</td>\n",
       "      <td>7.1</td>\n",
       "      <td>0.3</td>\n",
       "      <td>2.7</td>\n",
       "      <td>0.1</td>\n",
       "      <td>not fire</td>\n",
       "      <td>0</td>\n",
       "    </tr>\n",
       "    <tr>\n",
       "      <th>3</th>\n",
       "      <td>4</td>\n",
       "      <td>6</td>\n",
       "      <td>2012</td>\n",
       "      <td>25</td>\n",
       "      <td>89</td>\n",
       "      <td>13</td>\n",
       "      <td>2.5</td>\n",
       "      <td>28.6</td>\n",
       "      <td>1.3</td>\n",
       "      <td>6.9</td>\n",
       "      <td>0.0</td>\n",
       "      <td>1.7</td>\n",
       "      <td>0.0</td>\n",
       "      <td>not fire</td>\n",
       "      <td>0</td>\n",
       "    </tr>\n",
       "    <tr>\n",
       "      <th>4</th>\n",
       "      <td>5</td>\n",
       "      <td>6</td>\n",
       "      <td>2012</td>\n",
       "      <td>27</td>\n",
       "      <td>77</td>\n",
       "      <td>16</td>\n",
       "      <td>0.0</td>\n",
       "      <td>64.8</td>\n",
       "      <td>3.0</td>\n",
       "      <td>14.2</td>\n",
       "      <td>1.2</td>\n",
       "      <td>3.9</td>\n",
       "      <td>0.5</td>\n",
       "      <td>not fire</td>\n",
       "      <td>0</td>\n",
       "    </tr>\n",
       "  </tbody>\n",
       "</table>\n",
       "</div>"
      ],
      "text/plain": [
       "   day  month  year  Temperature  RH  Ws  Rain  FFMC  DMC    DC  ISI  BUI  \\\n",
       "0    1      6  2012           29  57  18   0.0  65.7  3.4   7.6  1.3  3.4   \n",
       "1    2      6  2012           29  61  13   1.3  64.4  4.1   7.6  1.0  3.9   \n",
       "2    3      6  2012           26  82  22  13.1  47.1  2.5   7.1  0.3  2.7   \n",
       "3    4      6  2012           25  89  13   2.5  28.6  1.3   6.9  0.0  1.7   \n",
       "4    5      6  2012           27  77  16   0.0  64.8  3.0  14.2  1.2  3.9   \n",
       "\n",
       "   FWI      Classes  Region  \n",
       "0  0.5  not fire          0  \n",
       "1  0.4  not fire          0  \n",
       "2  0.1  not fire          0  \n",
       "3  0.0  not fire          0  \n",
       "4  0.5  not fire          0  "
      ]
     },
     "execution_count": 3,
     "metadata": {},
     "output_type": "execute_result"
    }
   ],
   "source": [
    "df.head()"
   ]
  },
  {
   "cell_type": "code",
   "execution_count": 4,
   "id": "6962d630",
   "metadata": {},
   "outputs": [
    {
     "name": "stdout",
     "output_type": "stream",
     "text": [
      "<class 'pandas.core.frame.DataFrame'>\n",
      "RangeIndex: 243 entries, 0 to 242\n",
      "Data columns (total 15 columns):\n",
      " #   Column       Non-Null Count  Dtype  \n",
      "---  ------       --------------  -----  \n",
      " 0   day          243 non-null    int64  \n",
      " 1   month        243 non-null    int64  \n",
      " 2   year         243 non-null    int64  \n",
      " 3   Temperature  243 non-null    int64  \n",
      " 4   RH           243 non-null    int64  \n",
      " 5   Ws           243 non-null    int64  \n",
      " 6   Rain         243 non-null    float64\n",
      " 7   FFMC         243 non-null    float64\n",
      " 8   DMC          243 non-null    float64\n",
      " 9   DC           243 non-null    float64\n",
      " 10  ISI          243 non-null    float64\n",
      " 11  BUI          243 non-null    float64\n",
      " 12  FWI          243 non-null    float64\n",
      " 13  Classes      243 non-null    object \n",
      " 14  Region       243 non-null    int64  \n",
      "dtypes: float64(7), int64(7), object(1)\n",
      "memory usage: 28.6+ KB\n"
     ]
    }
   ],
   "source": [
    "df.info()"
   ]
  },
  {
   "cell_type": "code",
   "execution_count": 5,
   "id": "3906febd",
   "metadata": {},
   "outputs": [
    {
     "data": {
      "text/plain": [
       "Index(['day', 'month', 'year', 'Temperature', 'RH', 'Ws', 'Rain', 'FFMC',\n",
       "       'DMC', 'DC', 'ISI', 'BUI', 'FWI', 'Classes', 'Region'],\n",
       "      dtype='object')"
      ]
     },
     "execution_count": 5,
     "metadata": {},
     "output_type": "execute_result"
    }
   ],
   "source": [
    "df.columns"
   ]
  },
  {
   "cell_type": "code",
   "execution_count": 6,
   "id": "90c5abbb",
   "metadata": {},
   "outputs": [],
   "source": [
    "#drop month date and year\n",
    "df.drop(['day', 'month', 'year'],axis=1,inplace=True)"
   ]
  },
  {
   "cell_type": "code",
   "execution_count": 7,
   "id": "2de8f784",
   "metadata": {},
   "outputs": [
    {
     "data": {
      "text/html": [
       "<div>\n",
       "<style scoped>\n",
       "    .dataframe tbody tr th:only-of-type {\n",
       "        vertical-align: middle;\n",
       "    }\n",
       "\n",
       "    .dataframe tbody tr th {\n",
       "        vertical-align: top;\n",
       "    }\n",
       "\n",
       "    .dataframe thead th {\n",
       "        text-align: right;\n",
       "    }\n",
       "</style>\n",
       "<table border=\"1\" class=\"dataframe\">\n",
       "  <thead>\n",
       "    <tr style=\"text-align: right;\">\n",
       "      <th></th>\n",
       "      <th>Temperature</th>\n",
       "      <th>RH</th>\n",
       "      <th>Ws</th>\n",
       "      <th>Rain</th>\n",
       "      <th>FFMC</th>\n",
       "      <th>DMC</th>\n",
       "      <th>DC</th>\n",
       "      <th>ISI</th>\n",
       "      <th>BUI</th>\n",
       "      <th>FWI</th>\n",
       "      <th>Classes</th>\n",
       "      <th>Region</th>\n",
       "    </tr>\n",
       "  </thead>\n",
       "  <tbody>\n",
       "    <tr>\n",
       "      <th>0</th>\n",
       "      <td>29</td>\n",
       "      <td>57</td>\n",
       "      <td>18</td>\n",
       "      <td>0.0</td>\n",
       "      <td>65.7</td>\n",
       "      <td>3.4</td>\n",
       "      <td>7.6</td>\n",
       "      <td>1.3</td>\n",
       "      <td>3.4</td>\n",
       "      <td>0.5</td>\n",
       "      <td>not fire</td>\n",
       "      <td>0</td>\n",
       "    </tr>\n",
       "    <tr>\n",
       "      <th>1</th>\n",
       "      <td>29</td>\n",
       "      <td>61</td>\n",
       "      <td>13</td>\n",
       "      <td>1.3</td>\n",
       "      <td>64.4</td>\n",
       "      <td>4.1</td>\n",
       "      <td>7.6</td>\n",
       "      <td>1.0</td>\n",
       "      <td>3.9</td>\n",
       "      <td>0.4</td>\n",
       "      <td>not fire</td>\n",
       "      <td>0</td>\n",
       "    </tr>\n",
       "    <tr>\n",
       "      <th>2</th>\n",
       "      <td>26</td>\n",
       "      <td>82</td>\n",
       "      <td>22</td>\n",
       "      <td>13.1</td>\n",
       "      <td>47.1</td>\n",
       "      <td>2.5</td>\n",
       "      <td>7.1</td>\n",
       "      <td>0.3</td>\n",
       "      <td>2.7</td>\n",
       "      <td>0.1</td>\n",
       "      <td>not fire</td>\n",
       "      <td>0</td>\n",
       "    </tr>\n",
       "    <tr>\n",
       "      <th>3</th>\n",
       "      <td>25</td>\n",
       "      <td>89</td>\n",
       "      <td>13</td>\n",
       "      <td>2.5</td>\n",
       "      <td>28.6</td>\n",
       "      <td>1.3</td>\n",
       "      <td>6.9</td>\n",
       "      <td>0.0</td>\n",
       "      <td>1.7</td>\n",
       "      <td>0.0</td>\n",
       "      <td>not fire</td>\n",
       "      <td>0</td>\n",
       "    </tr>\n",
       "    <tr>\n",
       "      <th>4</th>\n",
       "      <td>27</td>\n",
       "      <td>77</td>\n",
       "      <td>16</td>\n",
       "      <td>0.0</td>\n",
       "      <td>64.8</td>\n",
       "      <td>3.0</td>\n",
       "      <td>14.2</td>\n",
       "      <td>1.2</td>\n",
       "      <td>3.9</td>\n",
       "      <td>0.5</td>\n",
       "      <td>not fire</td>\n",
       "      <td>0</td>\n",
       "    </tr>\n",
       "  </tbody>\n",
       "</table>\n",
       "</div>"
      ],
      "text/plain": [
       "   Temperature  RH  Ws  Rain  FFMC  DMC    DC  ISI  BUI  FWI      Classes  \\\n",
       "0           29  57  18   0.0  65.7  3.4   7.6  1.3  3.4  0.5  not fire      \n",
       "1           29  61  13   1.3  64.4  4.1   7.6  1.0  3.9  0.4  not fire      \n",
       "2           26  82  22  13.1  47.1  2.5   7.1  0.3  2.7  0.1  not fire      \n",
       "3           25  89  13   2.5  28.6  1.3   6.9  0.0  1.7  0.0  not fire      \n",
       "4           27  77  16   0.0  64.8  3.0  14.2  1.2  3.9  0.5  not fire      \n",
       "\n",
       "   Region  \n",
       "0       0  \n",
       "1       0  \n",
       "2       0  \n",
       "3       0  \n",
       "4       0  "
      ]
     },
     "execution_count": 7,
     "metadata": {},
     "output_type": "execute_result"
    }
   ],
   "source": [
    "df.head()"
   ]
  },
  {
   "cell_type": "code",
   "execution_count": 8,
   "id": "5a1c4ce1",
   "metadata": {},
   "outputs": [
    {
     "data": {
      "text/plain": [
       "fire             131\n",
       "not fire         101\n",
       "fire               4\n",
       "fire               2\n",
       "not fire           2\n",
       "not fire           1\n",
       "not fire           1\n",
       "not fire           1\n",
       "Name: Classes, dtype: int64"
      ]
     },
     "execution_count": 8,
     "metadata": {},
     "output_type": "execute_result"
    }
   ],
   "source": [
    "df['Classes'].value_counts()"
   ]
  },
  {
   "cell_type": "code",
   "execution_count": 9,
   "id": "3d7f5a12",
   "metadata": {},
   "outputs": [],
   "source": [
    "df['classes']=np.where(df['Classes'].str.contains('not fire'),0,1)"
   ]
  },
  {
   "cell_type": "code",
   "execution_count": 10,
   "id": "1a9ae42e",
   "metadata": {},
   "outputs": [],
   "source": [
    "df.drop('Classes',axis=1,inplace=True)"
   ]
  },
  {
   "cell_type": "code",
   "execution_count": 11,
   "id": "222eb1ee",
   "metadata": {},
   "outputs": [
    {
     "data": {
      "text/html": [
       "<div>\n",
       "<style scoped>\n",
       "    .dataframe tbody tr th:only-of-type {\n",
       "        vertical-align: middle;\n",
       "    }\n",
       "\n",
       "    .dataframe tbody tr th {\n",
       "        vertical-align: top;\n",
       "    }\n",
       "\n",
       "    .dataframe thead th {\n",
       "        text-align: right;\n",
       "    }\n",
       "</style>\n",
       "<table border=\"1\" class=\"dataframe\">\n",
       "  <thead>\n",
       "    <tr style=\"text-align: right;\">\n",
       "      <th></th>\n",
       "      <th>Temperature</th>\n",
       "      <th>RH</th>\n",
       "      <th>Ws</th>\n",
       "      <th>Rain</th>\n",
       "      <th>FFMC</th>\n",
       "      <th>DMC</th>\n",
       "      <th>DC</th>\n",
       "      <th>ISI</th>\n",
       "      <th>BUI</th>\n",
       "      <th>FWI</th>\n",
       "      <th>Region</th>\n",
       "      <th>classes</th>\n",
       "    </tr>\n",
       "  </thead>\n",
       "  <tbody>\n",
       "    <tr>\n",
       "      <th>0</th>\n",
       "      <td>29</td>\n",
       "      <td>57</td>\n",
       "      <td>18</td>\n",
       "      <td>0.0</td>\n",
       "      <td>65.7</td>\n",
       "      <td>3.4</td>\n",
       "      <td>7.6</td>\n",
       "      <td>1.3</td>\n",
       "      <td>3.4</td>\n",
       "      <td>0.5</td>\n",
       "      <td>0</td>\n",
       "      <td>0</td>\n",
       "    </tr>\n",
       "    <tr>\n",
       "      <th>1</th>\n",
       "      <td>29</td>\n",
       "      <td>61</td>\n",
       "      <td>13</td>\n",
       "      <td>1.3</td>\n",
       "      <td>64.4</td>\n",
       "      <td>4.1</td>\n",
       "      <td>7.6</td>\n",
       "      <td>1.0</td>\n",
       "      <td>3.9</td>\n",
       "      <td>0.4</td>\n",
       "      <td>0</td>\n",
       "      <td>0</td>\n",
       "    </tr>\n",
       "    <tr>\n",
       "      <th>2</th>\n",
       "      <td>26</td>\n",
       "      <td>82</td>\n",
       "      <td>22</td>\n",
       "      <td>13.1</td>\n",
       "      <td>47.1</td>\n",
       "      <td>2.5</td>\n",
       "      <td>7.1</td>\n",
       "      <td>0.3</td>\n",
       "      <td>2.7</td>\n",
       "      <td>0.1</td>\n",
       "      <td>0</td>\n",
       "      <td>0</td>\n",
       "    </tr>\n",
       "    <tr>\n",
       "      <th>3</th>\n",
       "      <td>25</td>\n",
       "      <td>89</td>\n",
       "      <td>13</td>\n",
       "      <td>2.5</td>\n",
       "      <td>28.6</td>\n",
       "      <td>1.3</td>\n",
       "      <td>6.9</td>\n",
       "      <td>0.0</td>\n",
       "      <td>1.7</td>\n",
       "      <td>0.0</td>\n",
       "      <td>0</td>\n",
       "      <td>0</td>\n",
       "    </tr>\n",
       "    <tr>\n",
       "      <th>4</th>\n",
       "      <td>27</td>\n",
       "      <td>77</td>\n",
       "      <td>16</td>\n",
       "      <td>0.0</td>\n",
       "      <td>64.8</td>\n",
       "      <td>3.0</td>\n",
       "      <td>14.2</td>\n",
       "      <td>1.2</td>\n",
       "      <td>3.9</td>\n",
       "      <td>0.5</td>\n",
       "      <td>0</td>\n",
       "      <td>0</td>\n",
       "    </tr>\n",
       "  </tbody>\n",
       "</table>\n",
       "</div>"
      ],
      "text/plain": [
       "   Temperature  RH  Ws  Rain  FFMC  DMC    DC  ISI  BUI  FWI  Region  classes\n",
       "0           29  57  18   0.0  65.7  3.4   7.6  1.3  3.4  0.5       0        0\n",
       "1           29  61  13   1.3  64.4  4.1   7.6  1.0  3.9  0.4       0        0\n",
       "2           26  82  22  13.1  47.1  2.5   7.1  0.3  2.7  0.1       0        0\n",
       "3           25  89  13   2.5  28.6  1.3   6.9  0.0  1.7  0.0       0        0\n",
       "4           27  77  16   0.0  64.8  3.0  14.2  1.2  3.9  0.5       0        0"
      ]
     },
     "execution_count": 11,
     "metadata": {},
     "output_type": "execute_result"
    }
   ],
   "source": [
    "df.head()"
   ]
  },
  {
   "cell_type": "code",
   "execution_count": 12,
   "id": "15cdb012",
   "metadata": {},
   "outputs": [
    {
     "data": {
      "text/plain": [
       "1    137\n",
       "0    106\n",
       "Name: classes, dtype: int64"
      ]
     },
     "execution_count": 12,
     "metadata": {},
     "output_type": "execute_result"
    }
   ],
   "source": [
    "df['classes'].value_counts()"
   ]
  },
  {
   "cell_type": "code",
   "execution_count": 13,
   "id": "5925c878",
   "metadata": {},
   "outputs": [],
   "source": [
    "#indepednent and dependent"
   ]
  },
  {
   "cell_type": "code",
   "execution_count": 14,
   "id": "63f5dcb8",
   "metadata": {},
   "outputs": [],
   "source": [
    "x=df.drop('FWI',axis=1)\n",
    "y=df['FWI']"
   ]
  },
  {
   "cell_type": "code",
   "execution_count": 15,
   "id": "3a904146",
   "metadata": {},
   "outputs": [
    {
     "data": {
      "text/html": [
       "<div>\n",
       "<style scoped>\n",
       "    .dataframe tbody tr th:only-of-type {\n",
       "        vertical-align: middle;\n",
       "    }\n",
       "\n",
       "    .dataframe tbody tr th {\n",
       "        vertical-align: top;\n",
       "    }\n",
       "\n",
       "    .dataframe thead th {\n",
       "        text-align: right;\n",
       "    }\n",
       "</style>\n",
       "<table border=\"1\" class=\"dataframe\">\n",
       "  <thead>\n",
       "    <tr style=\"text-align: right;\">\n",
       "      <th></th>\n",
       "      <th>Temperature</th>\n",
       "      <th>RH</th>\n",
       "      <th>Ws</th>\n",
       "      <th>Rain</th>\n",
       "      <th>FFMC</th>\n",
       "      <th>DMC</th>\n",
       "      <th>DC</th>\n",
       "      <th>ISI</th>\n",
       "      <th>BUI</th>\n",
       "      <th>Region</th>\n",
       "      <th>classes</th>\n",
       "    </tr>\n",
       "  </thead>\n",
       "  <tbody>\n",
       "    <tr>\n",
       "      <th>0</th>\n",
       "      <td>29</td>\n",
       "      <td>57</td>\n",
       "      <td>18</td>\n",
       "      <td>0.0</td>\n",
       "      <td>65.7</td>\n",
       "      <td>3.4</td>\n",
       "      <td>7.6</td>\n",
       "      <td>1.3</td>\n",
       "      <td>3.4</td>\n",
       "      <td>0</td>\n",
       "      <td>0</td>\n",
       "    </tr>\n",
       "    <tr>\n",
       "      <th>1</th>\n",
       "      <td>29</td>\n",
       "      <td>61</td>\n",
       "      <td>13</td>\n",
       "      <td>1.3</td>\n",
       "      <td>64.4</td>\n",
       "      <td>4.1</td>\n",
       "      <td>7.6</td>\n",
       "      <td>1.0</td>\n",
       "      <td>3.9</td>\n",
       "      <td>0</td>\n",
       "      <td>0</td>\n",
       "    </tr>\n",
       "    <tr>\n",
       "      <th>2</th>\n",
       "      <td>26</td>\n",
       "      <td>82</td>\n",
       "      <td>22</td>\n",
       "      <td>13.1</td>\n",
       "      <td>47.1</td>\n",
       "      <td>2.5</td>\n",
       "      <td>7.1</td>\n",
       "      <td>0.3</td>\n",
       "      <td>2.7</td>\n",
       "      <td>0</td>\n",
       "      <td>0</td>\n",
       "    </tr>\n",
       "    <tr>\n",
       "      <th>3</th>\n",
       "      <td>25</td>\n",
       "      <td>89</td>\n",
       "      <td>13</td>\n",
       "      <td>2.5</td>\n",
       "      <td>28.6</td>\n",
       "      <td>1.3</td>\n",
       "      <td>6.9</td>\n",
       "      <td>0.0</td>\n",
       "      <td>1.7</td>\n",
       "      <td>0</td>\n",
       "      <td>0</td>\n",
       "    </tr>\n",
       "    <tr>\n",
       "      <th>4</th>\n",
       "      <td>27</td>\n",
       "      <td>77</td>\n",
       "      <td>16</td>\n",
       "      <td>0.0</td>\n",
       "      <td>64.8</td>\n",
       "      <td>3.0</td>\n",
       "      <td>14.2</td>\n",
       "      <td>1.2</td>\n",
       "      <td>3.9</td>\n",
       "      <td>0</td>\n",
       "      <td>0</td>\n",
       "    </tr>\n",
       "  </tbody>\n",
       "</table>\n",
       "</div>"
      ],
      "text/plain": [
       "   Temperature  RH  Ws  Rain  FFMC  DMC    DC  ISI  BUI  Region  classes\n",
       "0           29  57  18   0.0  65.7  3.4   7.6  1.3  3.4       0        0\n",
       "1           29  61  13   1.3  64.4  4.1   7.6  1.0  3.9       0        0\n",
       "2           26  82  22  13.1  47.1  2.5   7.1  0.3  2.7       0        0\n",
       "3           25  89  13   2.5  28.6  1.3   6.9  0.0  1.7       0        0\n",
       "4           27  77  16   0.0  64.8  3.0  14.2  1.2  3.9       0        0"
      ]
     },
     "execution_count": 15,
     "metadata": {},
     "output_type": "execute_result"
    }
   ],
   "source": [
    "x.head()"
   ]
  },
  {
   "cell_type": "code",
   "execution_count": 16,
   "id": "6a441f46",
   "metadata": {},
   "outputs": [
    {
     "data": {
      "text/plain": [
       "0    0.5\n",
       "1    0.4\n",
       "2    0.1\n",
       "3    0.0\n",
       "4    0.5\n",
       "Name: FWI, dtype: float64"
      ]
     },
     "execution_count": 16,
     "metadata": {},
     "output_type": "execute_result"
    }
   ],
   "source": [
    "y.head()"
   ]
  },
  {
   "cell_type": "code",
   "execution_count": 17,
   "id": "8de895ce",
   "metadata": {},
   "outputs": [],
   "source": [
    "#fwi stands for fire weather index"
   ]
  },
  {
   "cell_type": "code",
   "execution_count": 18,
   "id": "94bb4cc7",
   "metadata": {},
   "outputs": [],
   "source": [
    "from sklearn.model_selection import train_test_split"
   ]
  },
  {
   "cell_type": "code",
   "execution_count": 19,
   "id": "541c614e",
   "metadata": {},
   "outputs": [],
   "source": [
    "x_train,x_test,y_train,y_test=train_test_split(x,y,test_size=0.33,random_state=42)"
   ]
  },
  {
   "cell_type": "code",
   "execution_count": 20,
   "id": "8ef0a56c",
   "metadata": {},
   "outputs": [
    {
     "data": {
      "text/plain": [
       "((162, 11), (81,))"
      ]
     },
     "execution_count": 20,
     "metadata": {},
     "output_type": "execute_result"
    }
   ],
   "source": [
    "x_train.shape,y_test.shape"
   ]
  },
  {
   "cell_type": "code",
   "execution_count": 21,
   "id": "d7c54194",
   "metadata": {},
   "outputs": [
    {
     "data": {
      "text/html": [
       "<div>\n",
       "<style scoped>\n",
       "    .dataframe tbody tr th:only-of-type {\n",
       "        vertical-align: middle;\n",
       "    }\n",
       "\n",
       "    .dataframe tbody tr th {\n",
       "        vertical-align: top;\n",
       "    }\n",
       "\n",
       "    .dataframe thead th {\n",
       "        text-align: right;\n",
       "    }\n",
       "</style>\n",
       "<table border=\"1\" class=\"dataframe\">\n",
       "  <thead>\n",
       "    <tr style=\"text-align: right;\">\n",
       "      <th></th>\n",
       "      <th>Temperature</th>\n",
       "      <th>RH</th>\n",
       "      <th>Ws</th>\n",
       "      <th>Rain</th>\n",
       "      <th>FFMC</th>\n",
       "      <th>DMC</th>\n",
       "      <th>DC</th>\n",
       "      <th>ISI</th>\n",
       "      <th>BUI</th>\n",
       "      <th>Region</th>\n",
       "      <th>classes</th>\n",
       "    </tr>\n",
       "  </thead>\n",
       "  <tbody>\n",
       "    <tr>\n",
       "      <th>226</th>\n",
       "      <td>28</td>\n",
       "      <td>81</td>\n",
       "      <td>15</td>\n",
       "      <td>0.0</td>\n",
       "      <td>84.6</td>\n",
       "      <td>12.6</td>\n",
       "      <td>41.5</td>\n",
       "      <td>4.3</td>\n",
       "      <td>14.3</td>\n",
       "      <td>1</td>\n",
       "      <td>1</td>\n",
       "    </tr>\n",
       "    <tr>\n",
       "      <th>65</th>\n",
       "      <td>34</td>\n",
       "      <td>65</td>\n",
       "      <td>13</td>\n",
       "      <td>0.0</td>\n",
       "      <td>86.8</td>\n",
       "      <td>11.1</td>\n",
       "      <td>29.7</td>\n",
       "      <td>5.2</td>\n",
       "      <td>11.5</td>\n",
       "      <td>0</td>\n",
       "      <td>1</td>\n",
       "    </tr>\n",
       "    <tr>\n",
       "      <th>168</th>\n",
       "      <td>33</td>\n",
       "      <td>68</td>\n",
       "      <td>15</td>\n",
       "      <td>0.0</td>\n",
       "      <td>86.1</td>\n",
       "      <td>23.9</td>\n",
       "      <td>51.6</td>\n",
       "      <td>5.2</td>\n",
       "      <td>23.9</td>\n",
       "      <td>1</td>\n",
       "      <td>1</td>\n",
       "    </tr>\n",
       "    <tr>\n",
       "      <th>206</th>\n",
       "      <td>34</td>\n",
       "      <td>40</td>\n",
       "      <td>18</td>\n",
       "      <td>0.0</td>\n",
       "      <td>92.1</td>\n",
       "      <td>56.3</td>\n",
       "      <td>157.5</td>\n",
       "      <td>14.3</td>\n",
       "      <td>59.5</td>\n",
       "      <td>1</td>\n",
       "      <td>1</td>\n",
       "    </tr>\n",
       "    <tr>\n",
       "      <th>144</th>\n",
       "      <td>33</td>\n",
       "      <td>59</td>\n",
       "      <td>16</td>\n",
       "      <td>0.8</td>\n",
       "      <td>74.2</td>\n",
       "      <td>7.0</td>\n",
       "      <td>8.3</td>\n",
       "      <td>1.6</td>\n",
       "      <td>6.7</td>\n",
       "      <td>1</td>\n",
       "      <td>0</td>\n",
       "    </tr>\n",
       "    <tr>\n",
       "      <th>...</th>\n",
       "      <td>...</td>\n",
       "      <td>...</td>\n",
       "      <td>...</td>\n",
       "      <td>...</td>\n",
       "      <td>...</td>\n",
       "      <td>...</td>\n",
       "      <td>...</td>\n",
       "      <td>...</td>\n",
       "      <td>...</td>\n",
       "      <td>...</td>\n",
       "      <td>...</td>\n",
       "    </tr>\n",
       "    <tr>\n",
       "      <th>106</th>\n",
       "      <td>24</td>\n",
       "      <td>82</td>\n",
       "      <td>15</td>\n",
       "      <td>0.4</td>\n",
       "      <td>44.9</td>\n",
       "      <td>0.9</td>\n",
       "      <td>7.3</td>\n",
       "      <td>0.2</td>\n",
       "      <td>1.4</td>\n",
       "      <td>0</td>\n",
       "      <td>0</td>\n",
       "    </tr>\n",
       "    <tr>\n",
       "      <th>14</th>\n",
       "      <td>28</td>\n",
       "      <td>80</td>\n",
       "      <td>17</td>\n",
       "      <td>3.1</td>\n",
       "      <td>49.4</td>\n",
       "      <td>3.0</td>\n",
       "      <td>7.4</td>\n",
       "      <td>0.4</td>\n",
       "      <td>3.0</td>\n",
       "      <td>0</td>\n",
       "      <td>0</td>\n",
       "    </tr>\n",
       "    <tr>\n",
       "      <th>92</th>\n",
       "      <td>25</td>\n",
       "      <td>76</td>\n",
       "      <td>17</td>\n",
       "      <td>7.2</td>\n",
       "      <td>46.0</td>\n",
       "      <td>1.3</td>\n",
       "      <td>7.5</td>\n",
       "      <td>0.2</td>\n",
       "      <td>1.8</td>\n",
       "      <td>0</td>\n",
       "      <td>0</td>\n",
       "    </tr>\n",
       "    <tr>\n",
       "      <th>179</th>\n",
       "      <td>34</td>\n",
       "      <td>59</td>\n",
       "      <td>16</td>\n",
       "      <td>0.0</td>\n",
       "      <td>88.1</td>\n",
       "      <td>19.5</td>\n",
       "      <td>47.2</td>\n",
       "      <td>7.4</td>\n",
       "      <td>19.5</td>\n",
       "      <td>1</td>\n",
       "      <td>1</td>\n",
       "    </tr>\n",
       "    <tr>\n",
       "      <th>102</th>\n",
       "      <td>30</td>\n",
       "      <td>77</td>\n",
       "      <td>21</td>\n",
       "      <td>1.8</td>\n",
       "      <td>58.5</td>\n",
       "      <td>1.9</td>\n",
       "      <td>8.4</td>\n",
       "      <td>1.1</td>\n",
       "      <td>2.4</td>\n",
       "      <td>0</td>\n",
       "      <td>0</td>\n",
       "    </tr>\n",
       "  </tbody>\n",
       "</table>\n",
       "<p>162 rows × 11 columns</p>\n",
       "</div>"
      ],
      "text/plain": [
       "     Temperature  RH  Ws  Rain  FFMC   DMC     DC   ISI   BUI  Region  classes\n",
       "226           28  81  15   0.0  84.6  12.6   41.5   4.3  14.3       1        1\n",
       "65            34  65  13   0.0  86.8  11.1   29.7   5.2  11.5       0        1\n",
       "168           33  68  15   0.0  86.1  23.9   51.6   5.2  23.9       1        1\n",
       "206           34  40  18   0.0  92.1  56.3  157.5  14.3  59.5       1        1\n",
       "144           33  59  16   0.8  74.2   7.0    8.3   1.6   6.7       1        0\n",
       "..           ...  ..  ..   ...   ...   ...    ...   ...   ...     ...      ...\n",
       "106           24  82  15   0.4  44.9   0.9    7.3   0.2   1.4       0        0\n",
       "14            28  80  17   3.1  49.4   3.0    7.4   0.4   3.0       0        0\n",
       "92            25  76  17   7.2  46.0   1.3    7.5   0.2   1.8       0        0\n",
       "179           34  59  16   0.0  88.1  19.5   47.2   7.4  19.5       1        1\n",
       "102           30  77  21   1.8  58.5   1.9    8.4   1.1   2.4       0        0\n",
       "\n",
       "[162 rows x 11 columns]"
      ]
     },
     "execution_count": 21,
     "metadata": {},
     "output_type": "execute_result"
    }
   ],
   "source": [
    "x_train"
   ]
  },
  {
   "cell_type": "code",
   "execution_count": 22,
   "id": "64aa7e6f",
   "metadata": {},
   "outputs": [
    {
     "data": {
      "text/plain": [
       "226     5.7\n",
       "65      6.1\n",
       "168     9.1\n",
       "206    31.1\n",
       "144     0.8\n",
       "       ... \n",
       "106     0.0\n",
       "14      0.1\n",
       "92      0.1\n",
       "179    10.9\n",
       "102     0.3\n",
       "Name: FWI, Length: 162, dtype: float64"
      ]
     },
     "execution_count": 22,
     "metadata": {},
     "output_type": "execute_result"
    }
   ],
   "source": [
    "y_train"
   ]
  },
  {
   "cell_type": "code",
   "execution_count": 23,
   "id": "fce934a5",
   "metadata": {},
   "outputs": [],
   "source": [
    "#feature selectiom"
   ]
  },
  {
   "cell_type": "code",
   "execution_count": 24,
   "id": "8f423d25",
   "metadata": {},
   "outputs": [
    {
     "data": {
      "text/html": [
       "<div>\n",
       "<style scoped>\n",
       "    .dataframe tbody tr th:only-of-type {\n",
       "        vertical-align: middle;\n",
       "    }\n",
       "\n",
       "    .dataframe tbody tr th {\n",
       "        vertical-align: top;\n",
       "    }\n",
       "\n",
       "    .dataframe thead th {\n",
       "        text-align: right;\n",
       "    }\n",
       "</style>\n",
       "<table border=\"1\" class=\"dataframe\">\n",
       "  <thead>\n",
       "    <tr style=\"text-align: right;\">\n",
       "      <th></th>\n",
       "      <th>Temperature</th>\n",
       "      <th>RH</th>\n",
       "      <th>Ws</th>\n",
       "      <th>Rain</th>\n",
       "      <th>FFMC</th>\n",
       "      <th>DMC</th>\n",
       "      <th>DC</th>\n",
       "      <th>ISI</th>\n",
       "      <th>BUI</th>\n",
       "      <th>Region</th>\n",
       "      <th>classes</th>\n",
       "    </tr>\n",
       "  </thead>\n",
       "  <tbody>\n",
       "    <tr>\n",
       "      <th>Temperature</th>\n",
       "      <td>1.000000</td>\n",
       "      <td>-0.653217</td>\n",
       "      <td>-0.294493</td>\n",
       "      <td>-0.306845</td>\n",
       "      <td>0.686784</td>\n",
       "      <td>0.485957</td>\n",
       "      <td>0.387369</td>\n",
       "      <td>0.600649</td>\n",
       "      <td>0.463775</td>\n",
       "      <td>0.260966</td>\n",
       "      <td>0.515616</td>\n",
       "    </tr>\n",
       "    <tr>\n",
       "      <th>RH</th>\n",
       "      <td>-0.653217</td>\n",
       "      <td>1.000000</td>\n",
       "      <td>0.200772</td>\n",
       "      <td>0.218350</td>\n",
       "      <td>-0.633803</td>\n",
       "      <td>-0.416955</td>\n",
       "      <td>-0.240523</td>\n",
       "      <td>-0.718725</td>\n",
       "      <td>-0.365222</td>\n",
       "      <td>-0.419498</td>\n",
       "      <td>-0.444497</td>\n",
       "    </tr>\n",
       "    <tr>\n",
       "      <th>Ws</th>\n",
       "      <td>-0.294493</td>\n",
       "      <td>0.200772</td>\n",
       "      <td>1.000000</td>\n",
       "      <td>0.247112</td>\n",
       "      <td>-0.178626</td>\n",
       "      <td>0.008702</td>\n",
       "      <td>0.101059</td>\n",
       "      <td>-0.006136</td>\n",
       "      <td>0.043700</td>\n",
       "      <td>-0.216375</td>\n",
       "      <td>-0.062682</td>\n",
       "    </tr>\n",
       "    <tr>\n",
       "      <th>Rain</th>\n",
       "      <td>-0.306845</td>\n",
       "      <td>0.218350</td>\n",
       "      <td>0.247112</td>\n",
       "      <td>1.000000</td>\n",
       "      <td>-0.537842</td>\n",
       "      <td>-0.288821</td>\n",
       "      <td>-0.304050</td>\n",
       "      <td>-0.340753</td>\n",
       "      <td>-0.300830</td>\n",
       "      <td>-0.057620</td>\n",
       "      <td>-0.366668</td>\n",
       "    </tr>\n",
       "    <tr>\n",
       "      <th>FFMC</th>\n",
       "      <td>0.686784</td>\n",
       "      <td>-0.633803</td>\n",
       "      <td>-0.178626</td>\n",
       "      <td>-0.537842</td>\n",
       "      <td>1.000000</td>\n",
       "      <td>0.624492</td>\n",
       "      <td>0.528396</td>\n",
       "      <td>0.748319</td>\n",
       "      <td>0.611220</td>\n",
       "      <td>0.271324</td>\n",
       "      <td>0.782922</td>\n",
       "    </tr>\n",
       "    <tr>\n",
       "      <th>DMC</th>\n",
       "      <td>0.485957</td>\n",
       "      <td>-0.416955</td>\n",
       "      <td>0.008702</td>\n",
       "      <td>-0.288821</td>\n",
       "      <td>0.624492</td>\n",
       "      <td>1.000000</td>\n",
       "      <td>0.869090</td>\n",
       "      <td>0.685568</td>\n",
       "      <td>0.983366</td>\n",
       "      <td>0.222615</td>\n",
       "      <td>0.617266</td>\n",
       "    </tr>\n",
       "    <tr>\n",
       "      <th>DC</th>\n",
       "      <td>0.387369</td>\n",
       "      <td>-0.240523</td>\n",
       "      <td>0.101059</td>\n",
       "      <td>-0.304050</td>\n",
       "      <td>0.528396</td>\n",
       "      <td>0.869090</td>\n",
       "      <td>1.000000</td>\n",
       "      <td>0.514349</td>\n",
       "      <td>0.942305</td>\n",
       "      <td>-0.046399</td>\n",
       "      <td>0.547390</td>\n",
       "    </tr>\n",
       "    <tr>\n",
       "      <th>ISI</th>\n",
       "      <td>0.600649</td>\n",
       "      <td>-0.718725</td>\n",
       "      <td>-0.006136</td>\n",
       "      <td>-0.340753</td>\n",
       "      <td>0.748319</td>\n",
       "      <td>0.685568</td>\n",
       "      <td>0.514349</td>\n",
       "      <td>1.000000</td>\n",
       "      <td>0.643968</td>\n",
       "      <td>0.304554</td>\n",
       "      <td>0.733342</td>\n",
       "    </tr>\n",
       "    <tr>\n",
       "      <th>BUI</th>\n",
       "      <td>0.463775</td>\n",
       "      <td>-0.365222</td>\n",
       "      <td>0.043700</td>\n",
       "      <td>-0.300830</td>\n",
       "      <td>0.611220</td>\n",
       "      <td>0.983366</td>\n",
       "      <td>0.942305</td>\n",
       "      <td>0.643968</td>\n",
       "      <td>1.000000</td>\n",
       "      <td>0.127509</td>\n",
       "      <td>0.613711</td>\n",
       "    </tr>\n",
       "    <tr>\n",
       "      <th>Region</th>\n",
       "      <td>0.260966</td>\n",
       "      <td>-0.419498</td>\n",
       "      <td>-0.216375</td>\n",
       "      <td>-0.057620</td>\n",
       "      <td>0.271324</td>\n",
       "      <td>0.222615</td>\n",
       "      <td>-0.046399</td>\n",
       "      <td>0.304554</td>\n",
       "      <td>0.127509</td>\n",
       "      <td>1.000000</td>\n",
       "      <td>0.197291</td>\n",
       "    </tr>\n",
       "    <tr>\n",
       "      <th>classes</th>\n",
       "      <td>0.515616</td>\n",
       "      <td>-0.444497</td>\n",
       "      <td>-0.062682</td>\n",
       "      <td>-0.366668</td>\n",
       "      <td>0.782922</td>\n",
       "      <td>0.617266</td>\n",
       "      <td>0.547390</td>\n",
       "      <td>0.733342</td>\n",
       "      <td>0.613711</td>\n",
       "      <td>0.197291</td>\n",
       "      <td>1.000000</td>\n",
       "    </tr>\n",
       "  </tbody>\n",
       "</table>\n",
       "</div>"
      ],
      "text/plain": [
       "             Temperature        RH        Ws      Rain      FFMC       DMC  \\\n",
       "Temperature     1.000000 -0.653217 -0.294493 -0.306845  0.686784  0.485957   \n",
       "RH             -0.653217  1.000000  0.200772  0.218350 -0.633803 -0.416955   \n",
       "Ws             -0.294493  0.200772  1.000000  0.247112 -0.178626  0.008702   \n",
       "Rain           -0.306845  0.218350  0.247112  1.000000 -0.537842 -0.288821   \n",
       "FFMC            0.686784 -0.633803 -0.178626 -0.537842  1.000000  0.624492   \n",
       "DMC             0.485957 -0.416955  0.008702 -0.288821  0.624492  1.000000   \n",
       "DC              0.387369 -0.240523  0.101059 -0.304050  0.528396  0.869090   \n",
       "ISI             0.600649 -0.718725 -0.006136 -0.340753  0.748319  0.685568   \n",
       "BUI             0.463775 -0.365222  0.043700 -0.300830  0.611220  0.983366   \n",
       "Region          0.260966 -0.419498 -0.216375 -0.057620  0.271324  0.222615   \n",
       "classes         0.515616 -0.444497 -0.062682 -0.366668  0.782922  0.617266   \n",
       "\n",
       "                   DC       ISI       BUI    Region   classes  \n",
       "Temperature  0.387369  0.600649  0.463775  0.260966  0.515616  \n",
       "RH          -0.240523 -0.718725 -0.365222 -0.419498 -0.444497  \n",
       "Ws           0.101059 -0.006136  0.043700 -0.216375 -0.062682  \n",
       "Rain        -0.304050 -0.340753 -0.300830 -0.057620 -0.366668  \n",
       "FFMC         0.528396  0.748319  0.611220  0.271324  0.782922  \n",
       "DMC          0.869090  0.685568  0.983366  0.222615  0.617266  \n",
       "DC           1.000000  0.514349  0.942305 -0.046399  0.547390  \n",
       "ISI          0.514349  1.000000  0.643968  0.304554  0.733342  \n",
       "BUI          0.942305  0.643968  1.000000  0.127509  0.613711  \n",
       "Region      -0.046399  0.304554  0.127509  1.000000  0.197291  \n",
       "classes      0.547390  0.733342  0.613711  0.197291  1.000000  "
      ]
     },
     "execution_count": 24,
     "metadata": {},
     "output_type": "execute_result"
    }
   ],
   "source": [
    "x_train.corr()"
   ]
  },
  {
   "cell_type": "code",
   "execution_count": 25,
   "id": "83432e36",
   "metadata": {},
   "outputs": [],
   "source": [
    "#when any correlation value btw any 2 features > thresh hold remove any one among the two columns"
   ]
  },
  {
   "cell_type": "code",
   "execution_count": 26,
   "id": "72e77ac7",
   "metadata": {},
   "outputs": [
    {
     "data": {
      "text/plain": [
       "<Axes: >"
      ]
     },
     "execution_count": 26,
     "metadata": {},
     "output_type": "execute_result"
    },
    {
     "data": {
      "image/png": "[encoded data removed]",
      "text/plain": [
       "<Figure size 1600x600 with 2 Axes>"
      ]
     },
     "metadata": {},
     "output_type": "display_data"
    }
   ],
   "source": [
    "plt.figure(figsize=(16,6))\n",
    "sns.heatmap(x_train.corr(),annot=True)"
   ]
  },
  {
   "cell_type": "code",
   "execution_count": 27,
   "id": "81215332",
   "metadata": {},
   "outputs": [],
   "source": [
    "# we see that corr btw bui and dmc (ill drop dmc)\n",
    "# we see that corr btw dc and bui (ill drop bui)\n",
    "#now only dc is there"
   ]
  },
  {
   "cell_type": "code",
   "execution_count": 28,
   "id": "1cd85586",
   "metadata": {},
   "outputs": [],
   "source": [
    "def correlation(dataset,threshhold):\n",
    "    col_corr=set()\n",
    "    corr_matrix=x_train.corr()\n",
    "    for i in range(len(corr_matrix.columns)):\n",
    "        for j in range(i):\n",
    "            if abs(corr_matrix.iloc[i,j])>threshhold:\n",
    "                colname=corr_matrix.columns[i]\n",
    "                col_corr.add(colname)\n",
    "    return col_corr"
   ]
  },
  {
   "cell_type": "code",
   "execution_count": 29,
   "id": "a70f3a7b",
   "metadata": {},
   "outputs": [],
   "source": [
    "corr_features=correlation(x_train,0.85)"
   ]
  },
  {
   "cell_type": "code",
   "execution_count": 30,
   "id": "1e569f04",
   "metadata": {},
   "outputs": [
    {
     "data": {
      "text/plain": [
       "{'BUI', 'DC'}"
      ]
     },
     "execution_count": 30,
     "metadata": {},
     "output_type": "execute_result"
    }
   ],
   "source": [
    "corr_features"
   ]
  },
  {
   "cell_type": "code",
   "execution_count": 31,
   "id": "83446a10",
   "metadata": {},
   "outputs": [],
   "source": [
    "x_train.drop(corr_features,axis=1,inplace=True)\n",
    "x_test.drop(corr_features,axis=1,inplace=True)"
   ]
  },
  {
   "cell_type": "code",
   "execution_count": 32,
   "id": "ec881eb0",
   "metadata": {},
   "outputs": [
    {
     "data": {
      "text/plain": [
       "((162, 9), (81, 9))"
      ]
     },
     "execution_count": 32,
     "metadata": {},
     "output_type": "execute_result"
    }
   ],
   "source": [
    "x_train.shape,x_test.shape"
   ]
  },
  {
   "cell_type": "code",
   "execution_count": 33,
   "id": "2c3019b8",
   "metadata": {},
   "outputs": [
    {
     "data": {
      "text/html": [
       "<div>\n",
       "<style scoped>\n",
       "    .dataframe tbody tr th:only-of-type {\n",
       "        vertical-align: middle;\n",
       "    }\n",
       "\n",
       "    .dataframe tbody tr th {\n",
       "        vertical-align: top;\n",
       "    }\n",
       "\n",
       "    .dataframe thead th {\n",
       "        text-align: right;\n",
       "    }\n",
       "</style>\n",
       "<table border=\"1\" class=\"dataframe\">\n",
       "  <thead>\n",
       "    <tr style=\"text-align: right;\">\n",
       "      <th></th>\n",
       "      <th>Temperature</th>\n",
       "      <th>RH</th>\n",
       "      <th>Ws</th>\n",
       "      <th>Rain</th>\n",
       "      <th>FFMC</th>\n",
       "      <th>DMC</th>\n",
       "      <th>ISI</th>\n",
       "      <th>Region</th>\n",
       "      <th>classes</th>\n",
       "    </tr>\n",
       "  </thead>\n",
       "  <tbody>\n",
       "    <tr>\n",
       "      <th>226</th>\n",
       "      <td>28</td>\n",
       "      <td>81</td>\n",
       "      <td>15</td>\n",
       "      <td>0.0</td>\n",
       "      <td>84.6</td>\n",
       "      <td>12.6</td>\n",
       "      <td>4.3</td>\n",
       "      <td>1</td>\n",
       "      <td>1</td>\n",
       "    </tr>\n",
       "    <tr>\n",
       "      <th>65</th>\n",
       "      <td>34</td>\n",
       "      <td>65</td>\n",
       "      <td>13</td>\n",
       "      <td>0.0</td>\n",
       "      <td>86.8</td>\n",
       "      <td>11.1</td>\n",
       "      <td>5.2</td>\n",
       "      <td>0</td>\n",
       "      <td>1</td>\n",
       "    </tr>\n",
       "    <tr>\n",
       "      <th>168</th>\n",
       "      <td>33</td>\n",
       "      <td>68</td>\n",
       "      <td>15</td>\n",
       "      <td>0.0</td>\n",
       "      <td>86.1</td>\n",
       "      <td>23.9</td>\n",
       "      <td>5.2</td>\n",
       "      <td>1</td>\n",
       "      <td>1</td>\n",
       "    </tr>\n",
       "    <tr>\n",
       "      <th>206</th>\n",
       "      <td>34</td>\n",
       "      <td>40</td>\n",
       "      <td>18</td>\n",
       "      <td>0.0</td>\n",
       "      <td>92.1</td>\n",
       "      <td>56.3</td>\n",
       "      <td>14.3</td>\n",
       "      <td>1</td>\n",
       "      <td>1</td>\n",
       "    </tr>\n",
       "    <tr>\n",
       "      <th>144</th>\n",
       "      <td>33</td>\n",
       "      <td>59</td>\n",
       "      <td>16</td>\n",
       "      <td>0.8</td>\n",
       "      <td>74.2</td>\n",
       "      <td>7.0</td>\n",
       "      <td>1.6</td>\n",
       "      <td>1</td>\n",
       "      <td>0</td>\n",
       "    </tr>\n",
       "  </tbody>\n",
       "</table>\n",
       "</div>"
      ],
      "text/plain": [
       "     Temperature  RH  Ws  Rain  FFMC   DMC   ISI  Region  classes\n",
       "226           28  81  15   0.0  84.6  12.6   4.3       1        1\n",
       "65            34  65  13   0.0  86.8  11.1   5.2       0        1\n",
       "168           33  68  15   0.0  86.1  23.9   5.2       1        1\n",
       "206           34  40  18   0.0  92.1  56.3  14.3       1        1\n",
       "144           33  59  16   0.8  74.2   7.0   1.6       1        0"
      ]
     },
     "execution_count": 33,
     "metadata": {},
     "output_type": "execute_result"
    }
   ],
   "source": [
    "x_train.head()"
   ]
  },
  {
   "cell_type": "code",
   "execution_count": 34,
   "id": "cf508740",
   "metadata": {},
   "outputs": [
    {
     "data": {
      "text/html": [
       "<div>\n",
       "<style scoped>\n",
       "    .dataframe tbody tr th:only-of-type {\n",
       "        vertical-align: middle;\n",
       "    }\n",
       "\n",
       "    .dataframe tbody tr th {\n",
       "        vertical-align: top;\n",
       "    }\n",
       "\n",
       "    .dataframe thead th {\n",
       "        text-align: right;\n",
       "    }\n",
       "</style>\n",
       "<table border=\"1\" class=\"dataframe\">\n",
       "  <thead>\n",
       "    <tr style=\"text-align: right;\">\n",
       "      <th></th>\n",
       "      <th>Temperature</th>\n",
       "      <th>RH</th>\n",
       "      <th>Ws</th>\n",
       "      <th>Rain</th>\n",
       "      <th>FFMC</th>\n",
       "      <th>DMC</th>\n",
       "      <th>ISI</th>\n",
       "      <th>Region</th>\n",
       "      <th>classes</th>\n",
       "    </tr>\n",
       "  </thead>\n",
       "  <tbody>\n",
       "    <tr>\n",
       "      <th>24</th>\n",
       "      <td>31</td>\n",
       "      <td>64</td>\n",
       "      <td>15</td>\n",
       "      <td>0.0</td>\n",
       "      <td>86.7</td>\n",
       "      <td>14.2</td>\n",
       "      <td>5.7</td>\n",
       "      <td>0</td>\n",
       "      <td>1</td>\n",
       "    </tr>\n",
       "    <tr>\n",
       "      <th>6</th>\n",
       "      <td>33</td>\n",
       "      <td>54</td>\n",
       "      <td>13</td>\n",
       "      <td>0.0</td>\n",
       "      <td>88.2</td>\n",
       "      <td>9.9</td>\n",
       "      <td>6.4</td>\n",
       "      <td>0</td>\n",
       "      <td>1</td>\n",
       "    </tr>\n",
       "    <tr>\n",
       "      <th>152</th>\n",
       "      <td>28</td>\n",
       "      <td>58</td>\n",
       "      <td>18</td>\n",
       "      <td>2.2</td>\n",
       "      <td>63.7</td>\n",
       "      <td>3.2</td>\n",
       "      <td>1.2</td>\n",
       "      <td>1</td>\n",
       "      <td>0</td>\n",
       "    </tr>\n",
       "    <tr>\n",
       "      <th>232</th>\n",
       "      <td>34</td>\n",
       "      <td>58</td>\n",
       "      <td>13</td>\n",
       "      <td>0.2</td>\n",
       "      <td>79.5</td>\n",
       "      <td>18.7</td>\n",
       "      <td>2.1</td>\n",
       "      <td>1</td>\n",
       "      <td>0</td>\n",
       "    </tr>\n",
       "    <tr>\n",
       "      <th>238</th>\n",
       "      <td>30</td>\n",
       "      <td>65</td>\n",
       "      <td>14</td>\n",
       "      <td>0.0</td>\n",
       "      <td>85.4</td>\n",
       "      <td>16.0</td>\n",
       "      <td>4.5</td>\n",
       "      <td>1</td>\n",
       "      <td>1</td>\n",
       "    </tr>\n",
       "  </tbody>\n",
       "</table>\n",
       "</div>"
      ],
      "text/plain": [
       "     Temperature  RH  Ws  Rain  FFMC   DMC  ISI  Region  classes\n",
       "24            31  64  15   0.0  86.7  14.2  5.7       0        1\n",
       "6             33  54  13   0.0  88.2   9.9  6.4       0        1\n",
       "152           28  58  18   2.2  63.7   3.2  1.2       1        0\n",
       "232           34  58  13   0.2  79.5  18.7  2.1       1        0\n",
       "238           30  65  14   0.0  85.4  16.0  4.5       1        1"
      ]
     },
     "execution_count": 34,
     "metadata": {},
     "output_type": "execute_result"
    }
   ],
   "source": [
    "x_test.head()"
   ]
  },
  {
   "cell_type": "code",
   "execution_count": 35,
   "id": "589380dd",
   "metadata": {},
   "outputs": [],
   "source": [
    "#standard scaler"
   ]
  },
  {
   "cell_type": "code",
   "execution_count": 36,
   "id": "182bef92",
   "metadata": {},
   "outputs": [],
   "source": [
    "from sklearn.preprocessing import StandardScaler"
   ]
  },
  {
   "cell_type": "code",
   "execution_count": 37,
   "id": "1c26c841",
   "metadata": {},
   "outputs": [],
   "source": [
    "ss=StandardScaler()"
   ]
  },
  {
   "cell_type": "code",
   "execution_count": 38,
   "id": "e41f7d51",
   "metadata": {},
   "outputs": [],
   "source": [
    "x_train_scaled=ss.fit_transform(x_train)\n",
    "x_test_scaled=ss.fit_transform(x_test)"
   ]
  },
  {
   "cell_type": "code",
   "execution_count": 39,
   "id": "d42aa767",
   "metadata": {},
   "outputs": [
    {
     "data": {
      "text/plain": [
       "array([[-1.12656349,  1.2199876 , -0.22762867, ..., -0.11433646,\n",
       "         0.9877296 ,  0.90566259],\n",
       "       [ 0.52256258,  0.1473255 , -0.98795537, ...,  0.09352209,\n",
       "        -1.01242284,  0.90566259],\n",
       "       [ 0.24770824,  0.34844965, -0.22762867, ...,  0.09352209,\n",
       "         0.9877296 ,  0.90566259],\n",
       "       ...,\n",
       "       [-1.95112653,  0.88478069,  0.53269803, ..., -1.06124763,\n",
       "        -1.01242284, -1.10416397],\n",
       "       [ 0.52256258, -0.25492278,  0.15253468, ...,  0.60162077,\n",
       "         0.9877296 ,  0.90566259],\n",
       "       [-0.5768548 ,  0.95182207,  2.05335143, ..., -0.85338908,\n",
       "        -1.01242284, -1.10416397]])"
      ]
     },
     "execution_count": 39,
     "metadata": {},
     "output_type": "execute_result"
    }
   ],
   "source": [
    "x_train_scaled"
   ]
  },
  {
   "cell_type": "code",
   "execution_count": 40,
   "id": "6a7c733b",
   "metadata": {},
   "outputs": [
    {
     "data": {
      "text/plain": [
       "array([[-0.35150686,  0.24113823, -0.09112646, -0.40704433,  0.57122918,\n",
       "         0.04725254,  0.28360542, -0.96362411,  0.8291562 ],\n",
       "       [ 0.20676874, -0.45149286, -0.73297367, -0.40704433,  0.67361058,\n",
       "        -0.35028512,  0.47036997, -0.96362411,  0.8291562 ],\n",
       "       [-1.18892028, -0.17444042,  0.87164437,  1.15285458, -0.99861883,\n",
       "        -0.96970426, -0.91702381,  1.03774904, -1.20604538],\n",
       "       [ 0.48590655, -0.17444042, -0.73297367, -0.26523534,  0.0797985 ,\n",
       "         0.46328032, -0.67689796,  1.03774904, -1.20604538],\n",
       "       [-0.63064467,  0.31040134, -0.41205007, -0.40704433,  0.48249864,\n",
       "         0.21366365, -0.03656237,  1.03774904,  0.8291562 ],\n",
       "       [ 1.88159557,  0.24113823, -2.01666811,  0.44380962, -0.30925079,\n",
       "        -0.18387401, -0.94370445,  1.03774904, -1.20604538],\n",
       "       [-1.18892028,  1.00303243,  0.22979715, -0.40704433,  0.26408501,\n",
       "        -0.85876352, -0.35673017,  1.03774904,  0.8291562 ],\n",
       "       [ 1.32331996, -1.69822881, -0.73297367,  0.01838265,  0.53710205,\n",
       "         0.38931982,  0.04347958,  1.03774904,  0.8291562 ],\n",
       "       [-1.18892028,  1.28008486, -1.05389728, -0.40704433, -0.35020335,\n",
       "        -0.38726537, -0.89034316, -0.96362411, -1.20604538],\n",
       "       [-0.35150686, -0.72854529,  1.19256798,  0.01838265, -0.03623374,\n",
       "        -0.28556969, -0.59685601, -0.96362411, -1.20604538],\n",
       "       [-1.18892028,  1.07229553,  1.8344152 , -0.40704433, -0.3911559 ,\n",
       "        -0.61839191, -1.05042705, -0.96362411, -1.20604538],\n",
       "       [ 0.76504435, -0.31296664, -0.41205007, -0.12342634,  0.05932222,\n",
       "         2.15512663, -0.67689796,  1.03774904, -1.20604538],\n",
       "       [-0.07236906, -0.65928218, -0.73297367, -0.40704433,  0.70773771,\n",
       "         0.21366365,  0.60377322,  1.03774904,  0.8291562 ],\n",
       "       [ 1.04418216, -0.72854529,  0.22979715, -0.40704433,  0.78964282,\n",
       "         1.75758897,  1.2974701 ,  1.03774904,  0.8291562 ],\n",
       "       [ 1.04418216, -0.38222975,  0.87164437, -0.40704433,  0.73503941,\n",
       "         1.83154947,  1.4041927 , -0.96362411,  0.8291562 ],\n",
       "       [ 0.48590655, -0.65928218,  0.22979715,  2.28732651, -0.05671002,\n",
       "        -0.52594129, -0.70357861,  1.03774904, -1.20604538],\n",
       "       [-1.74719588, -0.7978084 , -2.97943894,  1.01104559, -1.16242906,\n",
       "        -0.16538388, -1.0771077 ,  1.03774904, -1.20604538],\n",
       "       [-0.90978247,  1.97271595, -0.73297367,  0.08928714, -2.88243645,\n",
       "        -1.10838019, -1.2371916 , -0.96362411, -1.20604538],\n",
       "       [-0.07236906,  1.00303243, -0.41205007, -0.40704433,  0.55075291,\n",
       "        -0.0636882 ,  0.15020218, -0.96362411,  0.8291562 ],\n",
       "       [ 0.76504435, -0.45149286, -1.37482089, -0.33613983,  0.3664664 ,\n",
       "        -0.48896105, -0.41009146,  1.03774904,  0.8291562 ],\n",
       "       [ 0.20676874,  1.21082175,  0.55072076, -0.40704433,  0.12075106,\n",
       "        -0.84027339, -0.51681406, -0.96362411, -1.20604538],\n",
       "       [-0.63064467,  1.34934797,  0.22979715, -0.12342634, -1.26481045,\n",
       "        -0.95121414, -0.99706575, -0.96362411, -1.20604538],\n",
       "       [-0.35150686, -0.59001907, -0.41205007, -0.40704433,  0.63948345,\n",
       "        -0.67386228,  0.41700867, -0.96362411,  0.8291562 ],\n",
       "       [-0.90978247,  0.51819066,  1.19256798,  0.30200063, -1.25798503,\n",
       "        -1.03441969, -0.94370445, -0.96362411, -1.20604538],\n",
       "       [ 1.60245776, -1.76749192, -0.09112646, -0.40704433,  1.05583444,\n",
       "         0.86081798,  2.95167037,  1.03774904,  0.8291562 ],\n",
       "       [ 1.88159557, -1.07486083, -0.73297367,  0.01838265,  0.46884779,\n",
       "        -0.22085425, -0.11660432,  1.03774904,  0.8291562 ],\n",
       "       [-0.35150686,  0.31040134, -0.41205007, -0.40704433,  0.42106981,\n",
       "        -0.10991351, -0.16996562, -0.96362411,  0.8291562 ],\n",
       "       [ 0.76504435,  0.17187512, -0.09112646, -0.40704433,  0.59170546,\n",
       "         0.4910155 ,  0.33696672, -0.96362411,  0.8291562 ],\n",
       "       [-2.8637471 ,  1.76492662, -0.09112646,  6.75430974, -3.26466031,\n",
       "        -1.20083081, -1.2371916 , -0.96362411, -1.20604538],\n",
       "       [ 0.48590655, -0.17444042,  0.87164437, -0.40704433,  0.65995972,\n",
       "        -0.00821783,  0.89726036,  1.03774904,  0.8291562 ],\n",
       "       [-1.18892028,  1.6264004 ,  0.87164437, -0.40704433,  0.37329183,\n",
       "        -0.01746289, -0.03656237, -0.96362411,  0.8291562 ],\n",
       "       [-0.63064467, -0.17444042, -1.05389728,  2.50004   , -0.8348086 ,\n",
       "        -0.89574377, -0.9703851 ,  1.03774904, -1.20604538],\n",
       "       [-0.35150686,  0.24113823,  0.87164437, -0.40704433,  0.57805461,\n",
       "         0.38007476,  0.55041192, -0.96362411,  0.8291562 ],\n",
       "       [ 0.76504435,  0.24113823,  0.55072076, -0.40704433,  0.60535631,\n",
       "         1.68362848,  0.57709257, -0.96362411,  0.8291562 ],\n",
       "       [-0.35150686, -0.38222975,  0.22979715, -0.33613983,  0.10710021,\n",
       "        -0.84951846, -0.57017536, -0.96362411, -1.20604538],\n",
       "       [-0.07236906, -0.0359142 , -0.41205007, -0.26523534, -0.08401173,\n",
       "        -0.71084253, -0.75693991,  1.03774904, -1.20604538],\n",
       "       [-0.90978247,  1.00303243,  0.22979715, -0.40704433,  0.16852904,\n",
       "        -0.95121414, -0.49013341, -0.96362411,  0.8291562 ],\n",
       "       [ 0.76504435, -1.00559773, -0.73297367, -0.19433084,  0.38011725,\n",
       "         0.29686921, -0.30336887,  1.03774904,  0.8291562 ],\n",
       "       [-0.90978247,  1.83418973, -0.09112646, -0.12342634, -2.11116329,\n",
       "        -0.87725364, -1.1838303 ,  1.03774904, -1.20604538],\n",
       "       [-1.46805808,  1.83418973,  4.40180407, -0.05252185, -2.21354469,\n",
       "        -0.94196907, -1.130469  ,  1.03774904, -1.20604538],\n",
       "       [ 1.04418216, -0.38222975, -0.73297367, -0.19433084,  0.27773586,\n",
       "         0.1766834 , -0.25000757, -0.96362411,  0.8291562 ],\n",
       "       [-0.35150686, -0.45149286, -1.37482089, -0.40704433,  0.25043415,\n",
       "        -0.71084253, -0.57017536, -0.96362411, -1.20604538],\n",
       "       [-0.35150686, -0.38222975, -1.37482089, -0.40704433,  0.64630887,\n",
       "         0.25988896,  0.20356347, -0.96362411,  0.8291562 ],\n",
       "       [-0.63064467,  1.97271595,  0.22979715,  0.01838265, -2.80053134,\n",
       "        -1.16385056, -1.2371916 , -0.96362411, -1.20604538],\n",
       "       [ 1.32331996, -1.42117638, -0.73297367, -0.40704433,  0.92615134,\n",
       "         0.79610254,  1.64431855,  1.03774904,  0.8291562 ],\n",
       "       [-0.07236906,  0.58745377,  0.22979715, -0.40704433,  0.55757833,\n",
       "         0.16743834,  0.23024412, -0.96362411,  0.8291562 ],\n",
       "       [-0.07236906,  1.41861108,  0.55072076, -0.40704433,  0.42789523,\n",
       "         0.6851618 ,  0.01679893,  1.03774904,  0.8291562 ],\n",
       "       [-0.07236906,  0.51819066, -0.41205007,  0.58561861, -0.80068147,\n",
       "        -0.55367648, -0.94370445, -0.96362411, -1.20604538],\n",
       "       [ 1.04418216, -0.31296664,  0.22979715, -0.40704433,  0.72138856,\n",
       "         0.93477847,  0.95062166,  1.03774904,  0.8291562 ],\n",
       "       [-0.90978247,  0.31040134,  1.19256798,  0.01838265, -0.68464923,\n",
       "        -0.75706784, -0.83698186, -0.96362411, -1.20604538],\n",
       "       [ 0.20676874, -1.6289657 ,  0.22979715, -0.40704433,  0.94662762,\n",
       "         4.40167665,  2.25797349,  1.03774904,  0.8291562 ],\n",
       "       [ 1.60245776, -1.21338705, -0.73297367, -0.05252185,  0.45519694,\n",
       "        -0.0636882 , -0.14328497,  1.03774904,  0.8291562 ],\n",
       "       [-0.35150686, -1.28265016,  1.8344152 , -0.40704433,  0.8374208 ,\n",
       "         0.41705501,  2.33801543,  1.03774904,  0.8291562 ],\n",
       "       [ 0.48590655,  0.24113823, -0.41205007, -0.40704433,  0.72138856,\n",
       "         2.47870379,  1.16406686, -0.96362411,  0.8291562 ],\n",
       "       [ 1.04418216, -0.52075597,  1.19256798, -0.40704433,  0.74186484,\n",
       "         0.31535933,  1.43087335, -0.96362411,  0.8291562 ],\n",
       "       [-0.35150686,  1.21082175,  0.87164437, -0.40704433,  0.50980035,\n",
       "         2.95020194,  0.01679893, -0.96362411,  0.8291562 ],\n",
       "       [ 0.48590655, -0.31296664, -0.09112646,  1.64918605, -0.24099653,\n",
       "        -0.60914685, -0.81030121,  1.03774904, -1.20604538],\n",
       "       [ 0.20676874, -0.24370353,  0.22979715, -0.40704433,  0.62583259,\n",
       "         0.18592847,  0.55041192,  1.03774904,  0.8291562 ],\n",
       "       [-0.35150686,  0.7952431 , -0.41205007, -0.40704433,  0.40059353,\n",
       "        -0.49820611, -0.22332692,  1.03774904,  0.8291562 ],\n",
       "       [ 1.04418216, -1.90601814, -0.73297367, -0.33613983,  0.8374208 ,\n",
       "         1.11967971,  1.16406686,  1.03774904,  0.8291562 ],\n",
       "       [ 0.48590655, -0.31296664,  0.55072076, -0.33613983,  0.43472066,\n",
       "        -0.36877524,  0.01679893,  1.03774904,  0.8291562 ],\n",
       "       [-0.90978247,  0.93376932,  1.19256798, -0.33613983, -0.17274227,\n",
       "        -0.93272401, -0.67689796, -0.96362411, -1.20604538],\n",
       "       [-0.35150686,  0.7952431 , -0.41205007, -0.26523534, -1.23750875,\n",
       "        -0.91423389, -1.0237464 ,  1.03774904, -1.20604538],\n",
       "       [ 2.16073337, -2.04454436, -0.09112646, -0.40704433,  1.08313615,\n",
       "         0.81459267,  3.19179622,  1.03774904,  0.8291562 ],\n",
       "       [-0.07236906, -0.0359142 ,  0.87164437, -0.19433084, -0.08401173,\n",
       "        -0.22085425, -0.65021731, -0.96362411, -1.20604538],\n",
       "       [-0.07236906, -0.93633462, -0.41205007,  0.08928714, -0.05671002,\n",
       "        -0.60914685, -0.75693991, -0.96362411, -1.20604538],\n",
       "       [ 0.76504435, -0.10517731,  0.55072076, -0.40704433,  0.61900717,\n",
       "         0.10272291,  0.60377322, -0.96362411,  0.8291562 ],\n",
       "       [ 0.20676874, -0.86707151,  0.22979715, -0.40704433,  0.63265802,\n",
       "        -0.53518636,  0.57709257,  1.03774904,  0.8291562 ],\n",
       "       [ 0.76504435, -1.83675503,  0.22979715, -0.26523534,  0.680436  ,\n",
       "         0.29686921,  0.76385711,  1.03774904,  0.8291562 ],\n",
       "       [-2.02633369,  1.76492662,  1.8344152 ,  2.85456248, -2.55481599,\n",
       "        -1.14536043, -1.21051095, -0.96362411, -1.20604538],\n",
       "       [-0.07236906, -0.7978084 , -1.37482089, -0.40704433,  0.75551569,\n",
       "        -0.35953018,  0.57709257, -0.96362411,  0.8291562 ],\n",
       "       [ 1.88159557, -1.21338705, -1.05389728, -0.40704433,  0.91250049,\n",
       "         0.25988896,  1.32415075,  1.03774904,  0.8291562 ],\n",
       "       [ 0.76504435,  0.10261201,  1.19256798, -0.40704433,  0.75551569,\n",
       "         0.8793081 ,  1.3508314 , -0.96362411,  0.8291562 ],\n",
       "       [ 0.20676874, -0.72854529, -0.41205007, -0.40704433,  0.70773771,\n",
       "         0.85157291,  0.68381517, -0.96362411,  0.8291562 ],\n",
       "       [-1.74719588,  1.34934797,  0.22979715,  0.8692366 , -2.11116329,\n",
       "        -0.99743945, -1.15714965, -0.96362411, -1.20604538],\n",
       "       [-0.07236906, -0.45149286, -1.37482089, -0.05252185, -0.31607622,\n",
       "        -0.53518636, -0.91702381, -0.96362411, -1.20604538],\n",
       "       [-2.30547149, -0.45149286,  0.87164437, -0.33613983,  0.09344935,\n",
       "        -0.86800858, -0.78362056,  1.03774904, -1.20604538],\n",
       "       [-0.35150686,  0.44892756, -0.41205007, -0.40704433,  0.29138671,\n",
       "        -0.72933265, -0.41009146, -0.96362411,  0.8291562 ],\n",
       "       [ 1.04418216, -0.86707151, -0.73297367, -0.40704433,  0.81694453,\n",
       "         0.78685748,  1.08402491, -0.96362411,  0.8291562 ],\n",
       "       [-0.90978247,  1.34934797, -0.41205007,  1.01104559, -2.02243275,\n",
       "        -1.06215488, -1.15714965,  1.03774904, -1.20604538],\n",
       "       [ 1.04418216,  0.10261201,  0.22979715, -0.40704433,  0.64630887,\n",
       "         0.25988896,  0.63045387,  1.03774904,  0.8291562 ]])"
      ]
     },
     "execution_count": 40,
     "metadata": {},
     "output_type": "execute_result"
    }
   ],
   "source": [
    "x_test_scaled"
   ]
  },
  {
   "cell_type": "code",
   "execution_count": 41,
   "id": "d2c84d47",
   "metadata": {},
   "outputs": [
    {
     "name": "stderr",
     "output_type": "stream",
     "text": [
      "C:\\Users\\Sumanth\\AppData\\Local\\Temp\\ipykernel_4592\\3782475972.py:3: MatplotlibDeprecationWarning: Auto-removal of overlapping axes is deprecated since 3.6 and will be removed two minor releases later; explicitly call ax.remove() as needed.\n",
      "  plt.subplot(1,2,1)\n"
     ]
    },
    {
     "data": {
      "text/plain": [
       "Text(0.5, 1.0, 'after scaling')"
      ]
     },
     "execution_count": 41,
     "metadata": {},
     "output_type": "execute_result"
    },
    {
     "data": {
      "image/png": "[encoded data removed]",
      "text/plain": [
       "<Figure size 1600x600 with 2 Axes>"
      ]
     },
     "metadata": {},
     "output_type": "display_data"
    }
   ],
   "source": [
    "#box plot to understand edfffect of standard scaler\n",
    "plt.subplots(figsize=(16,6))\n",
    "plt.subplot(1,2,1)\n",
    "sns.boxplot(x_train)\n",
    "plt.title('before scaling')\n",
    "plt.subplot(1,2,2)\n",
    "sns.boxplot(x_train_scaled)\n",
    "plt.title('after scaling')"
   ]
  },
  {
   "cell_type": "code",
   "execution_count": 42,
   "id": "af4634a2",
   "metadata": {},
   "outputs": [],
   "source": [
    "#linear regression model"
   ]
  },
  {
   "cell_type": "code",
   "execution_count": 43,
   "id": "0954b750",
   "metadata": {},
   "outputs": [],
   "source": [
    "from sklearn.linear_model import LinearRegression"
   ]
  },
  {
   "cell_type": "code",
   "execution_count": 44,
   "id": "b0ffce1f",
   "metadata": {},
   "outputs": [],
   "source": [
    "from sklearn.metrics import r2_score,mean_absolute_error,mean_squared_error"
   ]
  },
  {
   "cell_type": "code",
   "execution_count": 45,
   "id": "580c0fc9",
   "metadata": {},
   "outputs": [],
   "source": [
    "lr=LinearRegression()"
   ]
  },
  {
   "cell_type": "code",
   "execution_count": 46,
   "id": "20ee0243",
   "metadata": {},
   "outputs": [
    {
     "name": "stdout",
     "output_type": "stream",
     "text": [
      "1.1533165541318888 2.259135662489227 0.948609705778225\n"
     ]
    }
   ],
   "source": [
    "lr.fit(x_train_scaled,y_train)\n",
    "y_pred=lr.predict(x_test_scaled)\n",
    "mae=mean_absolute_error(y_test,y_pred)\n",
    "mse=mean_squared_error(y_test,y_pred)\n",
    "score=r2_score(y_test,y_pred)\n",
    "print(mae,mse,score)"
   ]
  },
  {
   "cell_type": "code",
   "execution_count": 47,
   "id": "d2cd7929",
   "metadata": {},
   "outputs": [
    {
     "data": {
      "text/plain": [
       "array([ 9.02725438,  8.44764635, -0.96641974,  4.80697502,  7.37966597,\n",
       "        1.16767098,  1.77925298,  8.70782653,  1.46334693,  3.37289723,\n",
       "       -0.14172781, 11.30750336, 10.46363372, 19.58745134, 21.16337147,\n",
       "        1.01166874,  1.6783939 , -1.19545272,  7.79957094,  3.07646531,\n",
       "        1.08039667, -0.57121055,  7.03730503, -0.46548642, 24.09230232,\n",
       "        5.48824979,  6.35010352, 10.91845361, -1.31443421, 10.90901138,\n",
       "        7.13256684, -1.12185622, 11.56913123, 16.60712234,  1.17651434,\n",
       "        0.05173682,  1.66101153,  6.69702674, -1.43735399, -1.36300743,\n",
       "        7.24028188,  1.62944087,  9.54608666, -1.49385558, 17.61022305,\n",
       "        9.14770421,  9.20277584,  0.98120588, 14.73309387,  0.72090777,\n",
       "       34.44813043,  6.02049078, 19.60118567, 22.40726346, 15.50765187,\n",
       "       18.68925143,  0.27066904, 10.04923837,  3.6989019 , 16.72880797,\n",
       "        5.50265672,  0.29883557, -1.28315515, 25.0761383 ,  3.2451342 ,\n",
       "        1.42266815, 10.74636274,  7.54588613, 11.765958  , -1.46458447,\n",
       "        8.95878051, 13.95556979, 17.1529217 , 14.1057317 , -0.83218309,\n",
       "        1.04549534, -0.60805242,  2.89465181, 15.68191716, -2.01335613,\n",
       "       10.57858986])"
      ]
     },
     "execution_count": 47,
     "metadata": {},
     "output_type": "execute_result"
    }
   ],
   "source": [
    "y_pred"
   ]
  },
  {
   "cell_type": "code",
   "execution_count": 48,
   "id": "e40e359f",
   "metadata": {},
   "outputs": [
    {
     "data": {
      "text/plain": [
       "<matplotlib.collections.PathCollection at 0x2025b446e30>"
      ]
     },
     "execution_count": 48,
     "metadata": {},
     "output_type": "execute_result"
    },
    {
     "data": {
      "image/png": "[encoded data removed]",
      "text/plain": [
       "<Figure size 640x480 with 1 Axes>"
      ]
     },
     "metadata": {},
     "output_type": "display_data"
    }
   ],
   "source": [
    "plt.scatter(y_test,y_pred)"
   ]
  },
  {
   "cell_type": "code",
   "execution_count": 49,
   "id": "775009af",
   "metadata": {},
   "outputs": [],
   "source": [
    "#lasso regression"
   ]
  },
  {
   "cell_type": "code",
   "execution_count": 50,
   "id": "70bca155",
   "metadata": {},
   "outputs": [],
   "source": [
    "from sklearn.linear_model import Lasso"
   ]
  },
  {
   "cell_type": "code",
   "execution_count": 51,
   "id": "00be2150",
   "metadata": {},
   "outputs": [],
   "source": [
    "ls=Lasso()"
   ]
  },
  {
   "cell_type": "code",
   "execution_count": 52,
   "id": "7caa1aaf",
   "metadata": {},
   "outputs": [
    {
     "data": {
      "text/plain": [
       "(0.9807238182864625, 1.4673223756346159, 0.9666216908288852)"
      ]
     },
     "execution_count": 52,
     "metadata": {},
     "output_type": "execute_result"
    }
   ],
   "source": [
    "ls.fit(x_train_scaled,y_train)\n",
    "y_pred=ls.predict(x_test_scaled)\n",
    "mae=mean_absolute_error(y_test,y_pred)\n",
    "mse=mean_squared_error(y_test,y_pred)\n",
    "score=r2_score(y_test,y_pred)\n",
    "mae,mse,score"
   ]
  },
  {
   "cell_type": "code",
   "execution_count": 53,
   "id": "21485cde",
   "metadata": {},
   "outputs": [
    {
     "data": {
      "text/plain": [
       "<matplotlib.collections.PathCollection at 0x2025d5b0be0>"
      ]
     },
     "execution_count": 53,
     "metadata": {},
     "output_type": "execute_result"
    },
    {
     "data": {
      "image/png": "[encoded data removed]",
      "text/plain": [
       "<Figure size 640x480 with 1 Axes>"
      ]
     },
     "metadata": {},
     "output_type": "display_data"
    }
   ],
   "source": [
    "plt.scatter(y_test,y_pred)"
   ]
  },
  {
   "cell_type": "code",
   "execution_count": 54,
   "id": "850b92b4",
   "metadata": {},
   "outputs": [],
   "source": [
    "#cross validation lasso"
   ]
  },
  {
   "cell_type": "code",
   "execution_count": 55,
   "id": "7e2a49e1",
   "metadata": {},
   "outputs": [],
   "source": [
    "from sklearn.linear_model import LassoCV"
   ]
  },
  {
   "cell_type": "code",
   "execution_count": 56,
   "id": "00a377f6",
   "metadata": {},
   "outputs": [],
   "source": [
    "lcv=LassoCV(cv=5)"
   ]
  },
  {
   "cell_type": "code",
   "execution_count": 57,
   "id": "f27784a7",
   "metadata": {},
   "outputs": [
    {
     "data": {
      "text/html": [
       "<style>#sk-container-id-1 {color: black;background-color: white;}#sk-container-id-1 pre{padding: 0;}#sk-container-id-1 div.sk-toggleable {background-color: white;}#sk-container-id-1 label.sk-toggleable__label {cursor: pointer;display: block;width: 100%;margin-bottom: 0;padding: 0.3em;box-sizing: border-box;text-align: center;}#sk-container-id-1 label.sk-toggleable__label-arrow:before {content: \"▸\";float: left;margin-right: 0.25em;color: #696969;}#sk-container-id-1 label.sk-toggleable__label-arrow:hover:before {color: black;}#sk-container-id-1 div.sk-estimator:hover label.sk-toggleable__label-arrow:before {color: black;}#sk-container-id-1 div.sk-toggleable__content {max-height: 0;max-width: 0;overflow: hidden;text-align: left;background-color: #f0f8ff;}#sk-container-id-1 div.sk-toggleable__content pre {margin: 0.2em;color: black;border-radius: 0.25em;background-color: #f0f8ff;}#sk-container-id-1 input.sk-toggleable__control:checked~div.sk-toggleable__content {max-height: 200px;max-width: 100%;overflow: auto;}#sk-container-id-1 input.sk-toggleable__control:checked~label.sk-toggleable__label-arrow:before {content: \"▾\";}#sk-container-id-1 div.sk-estimator input.sk-toggleable__control:checked~label.sk-toggleable__label {background-color: #d4ebff;}#sk-container-id-1 div.sk-label input.sk-toggleable__control:checked~label.sk-toggleable__label {background-color: #d4ebff;}#sk-container-id-1 input.sk-hidden--visually {border: 0;clip: rect(1px 1px 1px 1px);clip: rect(1px, 1px, 1px, 1px);height: 1px;margin: -1px;overflow: hidden;padding: 0;position: absolute;width: 1px;}#sk-container-id-1 div.sk-estimator {font-family: monospace;background-color: #f0f8ff;border: 1px dotted black;border-radius: 0.25em;box-sizing: border-box;margin-bottom: 0.5em;}#sk-container-id-1 div.sk-estimator:hover {background-color: #d4ebff;}#sk-container-id-1 div.sk-parallel-item::after {content: \"\";width: 100%;border-bottom: 1px solid gray;flex-grow: 1;}#sk-container-id-1 div.sk-label:hover label.sk-toggleable__label {background-color: #d4ebff;}#sk-container-id-1 div.sk-serial::before {content: \"\";position: absolute;border-left: 1px solid gray;box-sizing: border-box;top: 0;bottom: 0;left: 50%;z-index: 0;}#sk-container-id-1 div.sk-serial {display: flex;flex-direction: column;align-items: center;background-color: white;padding-right: 0.2em;padding-left: 0.2em;position: relative;}#sk-container-id-1 div.sk-item {position: relative;z-index: 1;}#sk-container-id-1 div.sk-parallel {display: flex;align-items: stretch;justify-content: center;background-color: white;position: relative;}#sk-container-id-1 div.sk-item::before, #sk-container-id-1 div.sk-parallel-item::before {content: \"\";position: absolute;border-left: 1px solid gray;box-sizing: border-box;top: 0;bottom: 0;left: 50%;z-index: -1;}#sk-container-id-1 div.sk-parallel-item {display: flex;flex-direction: column;z-index: 1;position: relative;background-color: white;}#sk-container-id-1 div.sk-parallel-item:first-child::after {align-self: flex-end;width: 50%;}#sk-container-id-1 div.sk-parallel-item:last-child::after {align-self: flex-start;width: 50%;}#sk-container-id-1 div.sk-parallel-item:only-child::after {width: 0;}#sk-container-id-1 div.sk-dashed-wrapped {border: 1px dashed gray;margin: 0 0.4em 0.5em 0.4em;box-sizing: border-box;padding-bottom: 0.4em;background-color: white;}#sk-container-id-1 div.sk-label label {font-family: monospace;font-weight: bold;display: inline-block;line-height: 1.2em;}#sk-container-id-1 div.sk-label-container {text-align: center;}#sk-container-id-1 div.sk-container {/* jupyter's `normalize.less` sets `[hidden] { display: none; }` but bootstrap.min.css set `[hidden] { display: none !important; }` so we also need the `!important` here to be able to override the default hidden behavior on the sphinx rendered scikit-learn.org. See: https://github.com/scikit-learn/scikit-learn/issues/21755 */display: inline-block !important;position: relative;}#sk-container-id-1 div.sk-text-repr-fallback {display: none;}</style><div id=\"sk-container-id-1\" class=\"sk-top-container\"><div class=\"sk-text-repr-fallback\"><pre>LassoCV(cv=5)</pre><b>In a Jupyter environment, please rerun this cell to show the HTML representation or trust the notebook. <br />On GitHub, the HTML representation is unable to render, please try loading this page with nbviewer.org.</b></div><div class=\"sk-container\" hidden><div class=\"sk-item\"><div class=\"sk-estimator sk-toggleable\"><input class=\"sk-toggleable__control sk-hidden--visually\" id=\"sk-estimator-id-1\" type=\"checkbox\" checked><label for=\"sk-estimator-id-1\" class=\"sk-toggleable__label sk-toggleable__label-arrow\">LassoCV</label><div class=\"sk-toggleable__content\"><pre>LassoCV(cv=5)</pre></div></div></div></div></div>"
      ],
      "text/plain": [
       "LassoCV(cv=5)"
      ]
     },
     "execution_count": 57,
     "metadata": {},
     "output_type": "execute_result"
    }
   ],
   "source": [
    "lcv.fit(x_train_scaled,y_train)"
   ]
  },
  {
   "cell_type": "code",
   "execution_count": 58,
   "id": "b4bee825",
   "metadata": {},
   "outputs": [
    {
     "data": {
      "text/plain": [
       "0.03318346689607898"
      ]
     },
     "execution_count": 58,
     "metadata": {},
     "output_type": "execute_result"
    }
   ],
   "source": [
    "lcv.alpha_"
   ]
  },
  {
   "cell_type": "code",
   "execution_count": 59,
   "id": "e643df1d",
   "metadata": {},
   "outputs": [
    {
     "data": {
      "text/plain": [
       "array([7.14916122e+00, 6.66733168e+00, 6.21797584e+00, 5.79890508e+00,\n",
       "       5.40807829e+00, 5.04359191e+00, 4.70367070e+00, 4.38665903e+00,\n",
       "       4.09101290e+00, 3.81529232e+00, 3.55815439e+00, 3.31834669e+00,\n",
       "       3.09470123e+00, 2.88612872e+00, 2.69161331e+00, 2.51020758e+00,\n",
       "       2.34102799e+00, 2.18325054e+00, 2.03610676e+00, 1.89887998e+00,\n",
       "       1.77090182e+00, 1.65154897e+00, 1.54024009e+00, 1.43643307e+00,\n",
       "       1.33962229e+00, 1.24933623e+00, 1.16513515e+00, 1.08660894e+00,\n",
       "       1.01337513e+00, 9.45077040e-01, 8.81382010e-01, 8.21979813e-01,\n",
       "       7.66581124e-01, 7.14916122e-01, 6.66733168e-01, 6.21797584e-01,\n",
       "       5.79890508e-01, 5.40807829e-01, 5.04359191e-01, 4.70367070e-01,\n",
       "       4.38665903e-01, 4.09101290e-01, 3.81529232e-01, 3.55815439e-01,\n",
       "       3.31834669e-01, 3.09470123e-01, 2.88612872e-01, 2.69161331e-01,\n",
       "       2.51020758e-01, 2.34102799e-01, 2.18325054e-01, 2.03610676e-01,\n",
       "       1.89887998e-01, 1.77090182e-01, 1.65154897e-01, 1.54024009e-01,\n",
       "       1.43643307e-01, 1.33962229e-01, 1.24933623e-01, 1.16513515e-01,\n",
       "       1.08660894e-01, 1.01337513e-01, 9.45077040e-02, 8.81382010e-02,\n",
       "       8.21979813e-02, 7.66581124e-02, 7.14916122e-02, 6.66733168e-02,\n",
       "       6.21797584e-02, 5.79890508e-02, 5.40807829e-02, 5.04359191e-02,\n",
       "       4.70367070e-02, 4.38665903e-02, 4.09101290e-02, 3.81529232e-02,\n",
       "       3.55815439e-02, 3.31834669e-02, 3.09470123e-02, 2.88612872e-02,\n",
       "       2.69161331e-02, 2.51020758e-02, 2.34102799e-02, 2.18325054e-02,\n",
       "       2.03610676e-02, 1.89887998e-02, 1.77090182e-02, 1.65154897e-02,\n",
       "       1.54024009e-02, 1.43643307e-02, 1.33962229e-02, 1.24933623e-02,\n",
       "       1.16513515e-02, 1.08660894e-02, 1.01337513e-02, 9.45077040e-03,\n",
       "       8.81382010e-03, 8.21979813e-03, 7.66581124e-03, 7.14916122e-03])"
      ]
     },
     "execution_count": 59,
     "metadata": {},
     "output_type": "execute_result"
    }
   ],
   "source": [
    "lcv.alphas_"
   ]
  },
  {
   "cell_type": "code",
   "execution_count": 60,
   "id": "0b2af5d9",
   "metadata": {},
   "outputs": [
    {
     "data": {
      "text/plain": [
       "array([[63.67571316, 63.6745843 , 62.46279749, 72.0204942 , 39.28646701],\n",
       "       [58.66266666, 57.2838259 , 57.50830135, 65.75315542, 34.84471157],\n",
       "       [51.58741201, 51.12096068, 52.45127415, 60.21573702, 30.45060981],\n",
       "       [45.4059877 , 45.84733465, 45.95091529, 55.31898965, 26.3309357 ],\n",
       "       [40.00389599, 40.51190805, 40.28757672, 50.98489633, 22.76820373],\n",
       "       [35.28126747, 35.58867985, 35.35295492, 47.14523581, 19.68820203],\n",
       "       [31.15135478, 31.34252972, 31.05261065, 43.74033136, 17.02719593],\n",
       "       [27.53840615, 27.68251373, 27.30455949, 39.59676043, 14.72921396],\n",
       "       [24.37649918, 24.5308825 , 24.03739251, 34.86397602, 12.74586476],\n",
       "       [21.60812103, 21.81889255, 21.18904401, 30.73650092, 11.03513468],\n",
       "       [19.18340697, 19.4873161 , 18.70526615, 27.13601398,  9.56055199],\n",
       "       [17.05865794, 17.48477246, 16.53907892, 23.99367344,  8.2903111 ],\n",
       "       [15.19587183, 15.76617873, 14.64951511, 21.25230889,  7.19726417],\n",
       "       [13.56192436, 14.29397744, 13.0009166 , 18.85939697,  6.25739415],\n",
       "       [12.12793853, 13.03408973, 11.56224465, 16.77013046,  5.45002114],\n",
       "       [10.86873598, 11.95747541, 10.30655051, 14.94550067,  4.75720803],\n",
       "       [ 9.76229475, 11.0389708 ,  9.21016223, 13.35154337,  4.16339984],\n",
       "       [ 8.78960165, 10.25677695,  8.25268202, 11.95868417,  3.65511033],\n",
       "       [ 7.93387345,  9.59201542,  7.41627972, 10.7405049 ,  3.22058667],\n",
       "       [ 7.18053101,  9.02781757,  6.6854298 ,  9.67599454,  2.84984193],\n",
       "       [ 6.51685002,  8.55113636,  6.04661241,  8.74485386,  2.53401723],\n",
       "       [ 5.93172231,  8.1491598 ,  5.4880533 ,  7.9300654 ,  2.26551221],\n",
       "       [ 5.41544811,  7.81130592,  4.99955341,  7.2168064 ,  2.0377467 ],\n",
       "       [ 4.95955523,  7.52842977,  4.57206109,  6.59216241,  1.84502569],\n",
       "       [ 4.55660143,  7.29263096,  4.19785845,  6.04488021,  1.68242216],\n",
       "       [ 4.20020411,  7.097088  ,  3.87016576,  5.56515285,  1.54567526],\n",
       "       [ 3.8846604 ,  6.93591436,  3.58307538,  5.14443259,  1.4311019 ],\n",
       "       [ 3.60502419,  6.80403361,  3.331439  ,  4.77492971,  1.33555812],\n",
       "       [ 3.35696845,  6.69659988,  3.11076943,  4.45087225,  1.25622531],\n",
       "       [ 3.13670614,  6.61082502,  2.91715516,  4.16620444,  1.19076303],\n",
       "       [ 2.94092153,  6.54295876,  2.74718589,  3.91598365,  1.13712642],\n",
       "       [ 2.76671021,  6.49021206,  2.59792196,  3.69590043,  1.09355281],\n",
       "       [ 2.61152697,  6.45019233,  2.46669754,  3.50219474,  1.05852413],\n",
       "       [ 2.47314027,  6.42084714,  2.35128878,  3.3315851 ,  1.03073399],\n",
       "       [ 2.34959257,  6.40041801,  2.24972187,  3.18120708,  1.00905922],\n",
       "       [ 2.23915721,  6.38740031,  2.16027411,  3.04855964,  0.99253509],\n",
       "       [ 2.14034502,  6.38050852,  2.08144179,  2.93131141,  0.98044305],\n",
       "       [ 2.05181893,  6.37864615,  2.01191201,  2.82787205,  0.97185401],\n",
       "       [ 1.97241327,  6.38045764,  1.95053816,  2.7364016 ,  0.96626968],\n",
       "       [ 1.90110255,  6.38602122,  1.89631862,  2.65544064,  0.9631726 ],\n",
       "       [ 1.83698388,  6.39421788,  1.84839929,  2.58371496,  0.96212022],\n",
       "       [ 1.77926176,  6.40447392,  1.80597036,  2.52010992,  0.9627356 ],\n",
       "       [ 1.7272348 ,  6.41631031,  1.76838649,  2.46365015,  0.96469833],\n",
       "       [ 1.68028408,  6.42932464,  1.73506274,  2.41348177,  0.96773673],\n",
       "       [ 1.637863  ,  6.43989186,  1.70548704,  2.36885691,  0.97162095],\n",
       "       [ 1.59948845,  6.45067834,  1.67921114,  2.32912032,  0.97615716],\n",
       "       [ 1.56474072,  6.46448988,  1.6437655 ,  2.29367645,  0.98118238],\n",
       "       [ 1.5153997 ,  6.48051017,  1.61183305,  2.26207279,  0.97365504],\n",
       "       [ 1.46970887,  6.49818076,  1.58342521,  2.23383604,  0.95956598],\n",
       "       [ 1.42871971,  6.51703484,  1.55812591,  2.20857764,  0.94791265],\n",
       "       [ 1.39191318,  6.53628247,  1.53557905,  2.18595679,  0.94452419],\n",
       "       [ 1.3588225 ,  6.55642895,  1.51544517,  2.16567391,  0.94299389],\n",
       "       [ 1.32903633,  6.5817167 ,  1.49745381,  2.12870633,  0.94251687],\n",
       "       [ 1.30219203,  6.63179918,  1.48135835,  2.07900269,  0.94289678],\n",
       "       [ 1.27796962,  6.68034646,  1.46694248,  2.03432503,  0.94399873],\n",
       "       [ 1.25608655,  6.72830003,  1.45407417,  1.99420889,  0.94683238],\n",
       "       [ 1.23629309,  6.77494944,  1.44319173,  1.95814212,  0.9504055 ],\n",
       "       [ 1.21836833,  6.82013431,  1.43348132,  1.92567638,  0.9545265 ],\n",
       "       [ 1.20211669,  6.86373459,  1.42474144,  1.89641654,  0.95885111],\n",
       "       [ 1.18736482,  6.90566681,  1.41689627,  1.87001396,  0.96346537],\n",
       "       [ 1.16915787,  6.94587792,  1.40983946,  1.83875129,  0.96795057],\n",
       "       [ 1.13804494,  6.98381632,  1.40303529,  1.79792346,  0.96454483],\n",
       "       [ 1.10481175,  7.02056378,  1.36904715,  1.76186948,  0.94069883],\n",
       "       [ 1.07516662,  7.05555675,  1.33980554,  1.72978709,  0.92045587],\n",
       "       [ 1.0485638 ,  7.08882339,  1.3141458 ,  1.70121387,  0.90283638],\n",
       "       [ 1.02502747,  7.12039774,  1.29162555,  1.67573778,  0.88750354],\n",
       "       [ 1.0040099 ,  7.15032225,  1.27176441,  1.65275457,  0.87416008],\n",
       "       [ 0.98522169,  7.17864583,  1.25439733,  1.63245244,  0.86377038],\n",
       "       [ 0.96933421,  7.20491099,  1.23912826,  1.61455773,  0.85665851],\n",
       "       [ 0.95585615,  7.22430614,  1.22569457,  1.59818012,  0.85079996],\n",
       "       [ 0.94565105,  7.24204582,  1.21386758,  1.58589063,  0.84573017],\n",
       "       [ 0.93665166,  7.25884624,  1.20341953,  1.57520497,  0.84175708],\n",
       "       [ 0.92897454,  7.27471656,  1.19186993,  1.56563794,  0.83851875],\n",
       "       [ 0.92231821,  7.29007951,  1.18168769,  1.55735261,  0.83569131],\n",
       "       [ 0.91642357,  7.3041975 ,  1.17283223,  1.54989281,  0.83361581],\n",
       "       [ 0.91143432,  7.31747367,  1.16513968,  1.54344811,  0.83199013],\n",
       "       [ 0.90699075,  7.32997326,  1.15845467,  1.53761585,  0.83054076],\n",
       "       [ 0.90313213,  7.34208372,  1.15263854,  1.53243673,  0.8296134 ],\n",
       "       [ 0.89990036,  7.35609527,  1.14759011,  1.52797771,  0.82876337],\n",
       "       [ 0.89700688,  7.36976897,  1.14319771,  1.52406427,  0.82832579],\n",
       "       [ 0.89458516,  7.38263053,  1.13938576,  1.52047232,  0.82790362],\n",
       "       [ 0.89251463,  7.3947321 ,  1.13607159,  1.51735201,  0.82779854],\n",
       "       [ 0.89155713,  7.40666915,  1.13388804,  1.51463178,  0.82755407],\n",
       "       [ 0.89115382,  7.41891221,  1.1326171 ,  1.51221719,  0.82774195],\n",
       "       [ 0.8908271 ,  7.43010924,  1.13163805,  1.51006952,  0.82789044],\n",
       "       [ 0.89075826,  7.44047825,  1.13087076,  1.50914996,  0.8280442 ],\n",
       "       [ 0.89083109,  7.45018862,  1.13030238,  1.50855458,  0.8283016 ],\n",
       "       [ 0.89099905,  7.45920416,  1.12989865,  1.50805544,  0.82898924],\n",
       "       [ 0.89113805,  7.46790931,  1.12961835,  1.50768658,  0.83083502],\n",
       "       [ 0.89141817,  7.4759037 ,  1.12928939,  1.50747653,  0.83289858],\n",
       "       [ 0.89177551,  7.48335581,  1.12906614,  1.50737023,  0.83508604],\n",
       "       [ 0.89217979,  7.49011104,  1.1289422 ,  1.50730719,  0.83728679],\n",
       "       [ 0.89273373,  7.49684008,  1.12889928,  1.50729092,  0.83939456],\n",
       "       [ 0.89326801,  7.50284554,  1.12893027,  1.50736023,  0.84139646],\n",
       "       [ 0.89387522,  7.50830314,  1.12900304,  1.50748753,  0.84313165],\n",
       "       [ 0.89452656,  7.51349786,  1.12912014,  1.5076484 ,  0.84486865],\n",
       "       [ 0.89517875,  7.51839078,  1.12927138,  1.50779082,  0.84657713],\n",
       "       [ 0.8957252 ,  7.52259979,  1.12945619,  1.5078254 ,  0.84820143],\n",
       "       [ 0.89630192,  7.52700906,  1.12964937,  1.50793599,  0.84973447],\n",
       "       [ 0.89690897,  7.53112692,  1.12985814,  1.50804608,  0.85105802]])"
      ]
     },
     "execution_count": 60,
     "metadata": {},
     "output_type": "execute_result"
    }
   ],
   "source": [
    "lcv.mse_path_"
   ]
  },
  {
   "cell_type": "code",
   "execution_count": 61,
   "id": "90ac6dd0",
   "metadata": {},
   "outputs": [
    {
     "data": {
      "text/plain": [
       "(1.125330334540518, 2.2050605719387932, 0.9498397933996093)"
      ]
     },
     "execution_count": 61,
     "metadata": {},
     "output_type": "execute_result"
    },
    {
     "data": {
      "image/png": "[encoded data removed]",
      "text/plain": [
       "<Figure size 640x480 with 1 Axes>"
      ]
     },
     "metadata": {},
     "output_type": "display_data"
    }
   ],
   "source": [
    "y_pred=lcv.predict(x_test_scaled)\n",
    "plt.scatter(y_test,y_pred)\n",
    "mae=mean_absolute_error(y_test,y_pred)\n",
    "mse=mean_squared_error(y_test,y_pred)\n",
    "score=r2_score(y_test,y_pred)\n",
    "mae,mse,score"
   ]
  },
  {
   "cell_type": "markdown",
   "id": "95c58680",
   "metadata": {},
   "source": [
    "## ridge regression"
   ]
  },
  {
   "cell_type": "code",
   "execution_count": 62,
   "id": "02a3af8e",
   "metadata": {},
   "outputs": [],
   "source": [
    "from sklearn.linear_model import Ridge"
   ]
  },
  {
   "cell_type": "code",
   "execution_count": 63,
   "id": "bf4a325f",
   "metadata": {},
   "outputs": [],
   "source": [
    "rd=Ridge()"
   ]
  },
  {
   "cell_type": "code",
   "execution_count": 64,
   "id": "728b304a",
   "metadata": {},
   "outputs": [
    {
     "name": "stdout",
     "output_type": "stream",
     "text": [
      "1.1507600417000206 2.2142726105960993 0.9496302400802396\n"
     ]
    },
    {
     "data": {
      "image/png": "[encoded data removed]",
      "text/plain": [
       "<Figure size 640x480 with 1 Axes>"
      ]
     },
     "metadata": {},
     "output_type": "display_data"
    }
   ],
   "source": [
    "rd.fit(x_train_scaled,y_train)\n",
    "y_pred=rd.predict(x_test_scaled)\n",
    "mae=mean_absolute_error(y_test,y_pred)\n",
    "mse=mean_squared_error(y_test,y_pred)\n",
    "score=r2_score(y_test,y_pred)\n",
    "plt.scatter(y_test,y_pred)\n",
    "plt.xlabel('y test')\n",
    "plt.ylabel('y   pred')\n",
    "print(mae,mse,score)"
   ]
  },
  {
   "cell_type": "code",
   "execution_count": 65,
   "id": "bd8b3342",
   "metadata": {},
   "outputs": [],
   "source": [
    "from sklearn.linear_model import RidgeCV"
   ]
  },
  {
   "cell_type": "code",
   "execution_count": 67,
   "id": "6f40b519",
   "metadata": {},
   "outputs": [],
   "source": [
    "rcv=RidgeCV(cv=5)"
   ]
  },
  {
   "cell_type": "code",
   "execution_count": 68,
   "id": "fe5b5f52",
   "metadata": {},
   "outputs": [
    {
     "data": {
      "text/html": [
       "<style>#sk-container-id-2 {color: black;background-color: white;}#sk-container-id-2 pre{padding: 0;}#sk-container-id-2 div.sk-toggleable {background-color: white;}#sk-container-id-2 label.sk-toggleable__label {cursor: pointer;display: block;width: 100%;margin-bottom: 0;padding: 0.3em;box-sizing: border-box;text-align: center;}#sk-container-id-2 label.sk-toggleable__label-arrow:before {content: \"▸\";float: left;margin-right: 0.25em;color: #696969;}#sk-container-id-2 label.sk-toggleable__label-arrow:hover:before {color: black;}#sk-container-id-2 div.sk-estimator:hover label.sk-toggleable__label-arrow:before {color: black;}#sk-container-id-2 div.sk-toggleable__content {max-height: 0;max-width: 0;overflow: hidden;text-align: left;background-color: #f0f8ff;}#sk-container-id-2 div.sk-toggleable__content pre {margin: 0.2em;color: black;border-radius: 0.25em;background-color: #f0f8ff;}#sk-container-id-2 input.sk-toggleable__control:checked~div.sk-toggleable__content {max-height: 200px;max-width: 100%;overflow: auto;}#sk-container-id-2 input.sk-toggleable__control:checked~label.sk-toggleable__label-arrow:before {content: \"▾\";}#sk-container-id-2 div.sk-estimator input.sk-toggleable__control:checked~label.sk-toggleable__label {background-color: #d4ebff;}#sk-container-id-2 div.sk-label input.sk-toggleable__control:checked~label.sk-toggleable__label {background-color: #d4ebff;}#sk-container-id-2 input.sk-hidden--visually {border: 0;clip: rect(1px 1px 1px 1px);clip: rect(1px, 1px, 1px, 1px);height: 1px;margin: -1px;overflow: hidden;padding: 0;position: absolute;width: 1px;}#sk-container-id-2 div.sk-estimator {font-family: monospace;background-color: #f0f8ff;border: 1px dotted black;border-radius: 0.25em;box-sizing: border-box;margin-bottom: 0.5em;}#sk-container-id-2 div.sk-estimator:hover {background-color: #d4ebff;}#sk-container-id-2 div.sk-parallel-item::after {content: \"\";width: 100%;border-bottom: 1px solid gray;flex-grow: 1;}#sk-container-id-2 div.sk-label:hover label.sk-toggleable__label {background-color: #d4ebff;}#sk-container-id-2 div.sk-serial::before {content: \"\";position: absolute;border-left: 1px solid gray;box-sizing: border-box;top: 0;bottom: 0;left: 50%;z-index: 0;}#sk-container-id-2 div.sk-serial {display: flex;flex-direction: column;align-items: center;background-color: white;padding-right: 0.2em;padding-left: 0.2em;position: relative;}#sk-container-id-2 div.sk-item {position: relative;z-index: 1;}#sk-container-id-2 div.sk-parallel {display: flex;align-items: stretch;justify-content: center;background-color: white;position: relative;}#sk-container-id-2 div.sk-item::before, #sk-container-id-2 div.sk-parallel-item::before {content: \"\";position: absolute;border-left: 1px solid gray;box-sizing: border-box;top: 0;bottom: 0;left: 50%;z-index: -1;}#sk-container-id-2 div.sk-parallel-item {display: flex;flex-direction: column;z-index: 1;position: relative;background-color: white;}#sk-container-id-2 div.sk-parallel-item:first-child::after {align-self: flex-end;width: 50%;}#sk-container-id-2 div.sk-parallel-item:last-child::after {align-self: flex-start;width: 50%;}#sk-container-id-2 div.sk-parallel-item:only-child::after {width: 0;}#sk-container-id-2 div.sk-dashed-wrapped {border: 1px dashed gray;margin: 0 0.4em 0.5em 0.4em;box-sizing: border-box;padding-bottom: 0.4em;background-color: white;}#sk-container-id-2 div.sk-label label {font-family: monospace;font-weight: bold;display: inline-block;line-height: 1.2em;}#sk-container-id-2 div.sk-label-container {text-align: center;}#sk-container-id-2 div.sk-container {/* jupyter's `normalize.less` sets `[hidden] { display: none; }` but bootstrap.min.css set `[hidden] { display: none !important; }` so we also need the `!important` here to be able to override the default hidden behavior on the sphinx rendered scikit-learn.org. See: https://github.com/scikit-learn/scikit-learn/issues/21755 */display: inline-block !important;position: relative;}#sk-container-id-2 div.sk-text-repr-fallback {display: none;}</style><div id=\"sk-container-id-2\" class=\"sk-top-container\"><div class=\"sk-text-repr-fallback\"><pre>RidgeCV(cv=5)</pre><b>In a Jupyter environment, please rerun this cell to show the HTML representation or trust the notebook. <br />On GitHub, the HTML representation is unable to render, please try loading this page with nbviewer.org.</b></div><div class=\"sk-container\" hidden><div class=\"sk-item\"><div class=\"sk-estimator sk-toggleable\"><input class=\"sk-toggleable__control sk-hidden--visually\" id=\"sk-estimator-id-2\" type=\"checkbox\" checked><label for=\"sk-estimator-id-2\" class=\"sk-toggleable__label sk-toggleable__label-arrow\">RidgeCV</label><div class=\"sk-toggleable__content\"><pre>RidgeCV(cv=5)</pre></div></div></div></div></div>"
      ],
      "text/plain": [
       "RidgeCV(cv=5)"
      ]
     },
     "execution_count": 68,
     "metadata": {},
     "output_type": "execute_result"
    }
   ],
   "source": [
    "rcv"
   ]
  },
  {
   "cell_type": "code",
   "execution_count": 70,
   "id": "261135aa",
   "metadata": {},
   "outputs": [
    {
     "name": "stdout",
     "output_type": "stream",
     "text": [
      "1.1507600417000206 2.2142726105960993 0.9496302400802396\n"
     ]
    },
    {
     "data": {
      "image/png": "[encoded data removed]",
      "text/plain": [
       "<Figure size 640x480 with 1 Axes>"
      ]
     },
     "metadata": {},
     "output_type": "display_data"
    }
   ],
   "source": [
    "rcv.fit(x_train_scaled,y_train)\n",
    "y_pred=rcv.predict(x_test_scaled)\n",
    "plt.scatter(y_test,y_pred)\n",
    "mae=mean_absolute_error(y_test,y_pred)\n",
    "mse=mean_squared_error(y_test,y_pred)\n",
    "r2=r2_score(y_test,y_pred)\n",
    "print(mae,mse,r2)"
   ]
  },
  {
   "cell_type": "code",
   "execution_count": 71,
   "id": "12156d48",
   "metadata": {},
   "outputs": [
    {
     "data": {
      "text/plain": [
       "{'alpha_per_target': False,\n",
       " 'alphas': (0.1, 1.0, 10.0),\n",
       " 'cv': 5,\n",
       " 'fit_intercept': True,\n",
       " 'gcv_mode': None,\n",
       " 'scoring': None,\n",
       " 'store_cv_values': False}"
      ]
     },
     "execution_count": 71,
     "metadata": {},
     "output_type": "execute_result"
    }
   ],
   "source": [
    "rcv.get_params()"
   ]
  },
  {
   "cell_type": "code",
   "execution_count": 72,
   "id": "6170df44",
   "metadata": {},
   "outputs": [],
   "source": [
    "## elastic net regression"
   ]
  },
  {
   "cell_type": "code",
   "execution_count": 73,
   "id": "a44321df",
   "metadata": {},
   "outputs": [],
   "source": [
    "from sklearn.linear_model import ElasticNet"
   ]
  },
  {
   "cell_type": "code",
   "execution_count": 74,
   "id": "891ff5ae",
   "metadata": {},
   "outputs": [],
   "source": [
    "en=ElasticNet()"
   ]
  },
  {
   "cell_type": "code",
   "execution_count": 75,
   "id": "fb32a1b5",
   "metadata": {},
   "outputs": [
    {
     "name": "stdout",
     "output_type": "stream",
     "text": [
      "1.6360746242758002 3.7585777823710296 0.9145007441126192\n"
     ]
    },
    {
     "data": {
      "image/png": "[encoded data removed]",
      "text/plain": [
       "<Figure size 640x480 with 1 Axes>"
      ]
     },
     "metadata": {},
     "output_type": "display_data"
    }
   ],
   "source": [
    "en.fit(x_train_scaled,y_train)\n",
    "y_pred=en.predict(x_test_scaled)\n",
    "plt.scatter(y_test,y_pred)\n",
    "mae=mean_absolute_error(y_test,y_pred)\n",
    "mse=mean_squared_error(y_test,y_pred)\n",
    "r2=r2_score(y_test,y_pred)\n",
    "print(mae,mse,r2)"
   ]
  },
  {
   "cell_type": "code",
   "execution_count": 76,
   "id": "b1a7ac7a",
   "metadata": {},
   "outputs": [],
   "source": [
    "from sklearn.linear_model import ElasticNetCV"
   ]
  },
  {
   "cell_type": "code",
   "execution_count": 77,
   "id": "86990df2",
   "metadata": {},
   "outputs": [],
   "source": [
    "ecv=ElasticNetCV()"
   ]
  },
  {
   "cell_type": "code",
   "execution_count": 78,
   "id": "204d5bdc",
   "metadata": {},
   "outputs": [
    {
     "name": "stdout",
     "output_type": "stream",
     "text": [
      "1.1404193073122375 2.162228926237592 0.9508141177445946\n"
     ]
    },
    {
     "data": {
      "image/png": "[encoded data removed]",
      "text/plain": [
       "<Figure size 640x480 with 1 Axes>"
      ]
     },
     "metadata": {},
     "output_type": "display_data"
    }
   ],
   "source": [
    "ecv.fit(x_train_scaled,y_train)\n",
    "y_pred=ecv.predict(x_test_scaled)\n",
    "plt.scatter(y_test,y_pred)\n",
    "mae=mean_absolute_error(y_test,y_pred)\n",
    "mse=mean_squared_error(y_test,y_pred)\n",
    "r2=r2_score(y_test,y_pred)\n",
    "print(mae,mse,r2)"
   ]
  },
  {
   "cell_type": "code",
   "execution_count": 79,
   "id": "a3d1ba6e",
   "metadata": {},
   "outputs": [],
   "source": [
    "#pickling the ml models and preprocessing models"
   ]
  },
  {
   "cell_type": "code",
   "execution_count": 80,
   "id": "38155e90",
   "metadata": {},
   "outputs": [
    {
     "data": {
      "text/html": [
       "<style>#sk-container-id-3 {color: black;background-color: white;}#sk-container-id-3 pre{padding: 0;}#sk-container-id-3 div.sk-toggleable {background-color: white;}#sk-container-id-3 label.sk-toggleable__label {cursor: pointer;display: block;width: 100%;margin-bottom: 0;padding: 0.3em;box-sizing: border-box;text-align: center;}#sk-container-id-3 label.sk-toggleable__label-arrow:before {content: \"▸\";float: left;margin-right: 0.25em;color: #696969;}#sk-container-id-3 label.sk-toggleable__label-arrow:hover:before {color: black;}#sk-container-id-3 div.sk-estimator:hover label.sk-toggleable__label-arrow:before {color: black;}#sk-container-id-3 div.sk-toggleable__content {max-height: 0;max-width: 0;overflow: hidden;text-align: left;background-color: #f0f8ff;}#sk-container-id-3 div.sk-toggleable__content pre {margin: 0.2em;color: black;border-radius: 0.25em;background-color: #f0f8ff;}#sk-container-id-3 input.sk-toggleable__control:checked~div.sk-toggleable__content {max-height: 200px;max-width: 100%;overflow: auto;}#sk-container-id-3 input.sk-toggleable__control:checked~label.sk-toggleable__label-arrow:before {content: \"▾\";}#sk-container-id-3 div.sk-estimator input.sk-toggleable__control:checked~label.sk-toggleable__label {background-color: #d4ebff;}#sk-container-id-3 div.sk-label input.sk-toggleable__control:checked~label.sk-toggleable__label {background-color: #d4ebff;}#sk-container-id-3 input.sk-hidden--visually {border: 0;clip: rect(1px 1px 1px 1px);clip: rect(1px, 1px, 1px, 1px);height: 1px;margin: -1px;overflow: hidden;padding: 0;position: absolute;width: 1px;}#sk-container-id-3 div.sk-estimator {font-family: monospace;background-color: #f0f8ff;border: 1px dotted black;border-radius: 0.25em;box-sizing: border-box;margin-bottom: 0.5em;}#sk-container-id-3 div.sk-estimator:hover {background-color: #d4ebff;}#sk-container-id-3 div.sk-parallel-item::after {content: \"\";width: 100%;border-bottom: 1px solid gray;flex-grow: 1;}#sk-container-id-3 div.sk-label:hover label.sk-toggleable__label {background-color: #d4ebff;}#sk-container-id-3 div.sk-serial::before {content: \"\";position: absolute;border-left: 1px solid gray;box-sizing: border-box;top: 0;bottom: 0;left: 50%;z-index: 0;}#sk-container-id-3 div.sk-serial {display: flex;flex-direction: column;align-items: center;background-color: white;padding-right: 0.2em;padding-left: 0.2em;position: relative;}#sk-container-id-3 div.sk-item {position: relative;z-index: 1;}#sk-container-id-3 div.sk-parallel {display: flex;align-items: stretch;justify-content: center;background-color: white;position: relative;}#sk-container-id-3 div.sk-item::before, #sk-container-id-3 div.sk-parallel-item::before {content: \"\";position: absolute;border-left: 1px solid gray;box-sizing: border-box;top: 0;bottom: 0;left: 50%;z-index: -1;}#sk-container-id-3 div.sk-parallel-item {display: flex;flex-direction: column;z-index: 1;position: relative;background-color: white;}#sk-container-id-3 div.sk-parallel-item:first-child::after {align-self: flex-end;width: 50%;}#sk-container-id-3 div.sk-parallel-item:last-child::after {align-self: flex-start;width: 50%;}#sk-container-id-3 div.sk-parallel-item:only-child::after {width: 0;}#sk-container-id-3 div.sk-dashed-wrapped {border: 1px dashed gray;margin: 0 0.4em 0.5em 0.4em;box-sizing: border-box;padding-bottom: 0.4em;background-color: white;}#sk-container-id-3 div.sk-label label {font-family: monospace;font-weight: bold;display: inline-block;line-height: 1.2em;}#sk-container-id-3 div.sk-label-container {text-align: center;}#sk-container-id-3 div.sk-container {/* jupyter's `normalize.less` sets `[hidden] { display: none; }` but bootstrap.min.css set `[hidden] { display: none !important; }` so we also need the `!important` here to be able to override the default hidden behavior on the sphinx rendered scikit-learn.org. See: https://github.com/scikit-learn/scikit-learn/issues/21755 */display: inline-block !important;position: relative;}#sk-container-id-3 div.sk-text-repr-fallback {display: none;}</style><div id=\"sk-container-id-3\" class=\"sk-top-container\"><div class=\"sk-text-repr-fallback\"><pre>StandardScaler()</pre><b>In a Jupyter environment, please rerun this cell to show the HTML representation or trust the notebook. <br />On GitHub, the HTML representation is unable to render, please try loading this page with nbviewer.org.</b></div><div class=\"sk-container\" hidden><div class=\"sk-item\"><div class=\"sk-estimator sk-toggleable\"><input class=\"sk-toggleable__control sk-hidden--visually\" id=\"sk-estimator-id-3\" type=\"checkbox\" checked><label for=\"sk-estimator-id-3\" class=\"sk-toggleable__label sk-toggleable__label-arrow\">StandardScaler</label><div class=\"sk-toggleable__content\"><pre>StandardScaler()</pre></div></div></div></div></div>"
      ],
      "text/plain": [
       "StandardScaler()"
      ]
     },
     "execution_count": 80,
     "metadata": {},
     "output_type": "execute_result"
    }
   ],
   "source": [
    "ss"
   ]
  },
  {
   "cell_type": "code",
   "execution_count": 81,
   "id": "636c2651",
   "metadata": {},
   "outputs": [
    {
     "data": {
      "text/html": [
       "<style>#sk-container-id-4 {color: black;background-color: white;}#sk-container-id-4 pre{padding: 0;}#sk-container-id-4 div.sk-toggleable {background-color: white;}#sk-container-id-4 label.sk-toggleable__label {cursor: pointer;display: block;width: 100%;margin-bottom: 0;padding: 0.3em;box-sizing: border-box;text-align: center;}#sk-container-id-4 label.sk-toggleable__label-arrow:before {content: \"▸\";float: left;margin-right: 0.25em;color: #696969;}#sk-container-id-4 label.sk-toggleable__label-arrow:hover:before {color: black;}#sk-container-id-4 div.sk-estimator:hover label.sk-toggleable__label-arrow:before {color: black;}#sk-container-id-4 div.sk-toggleable__content {max-height: 0;max-width: 0;overflow: hidden;text-align: left;background-color: #f0f8ff;}#sk-container-id-4 div.sk-toggleable__content pre {margin: 0.2em;color: black;border-radius: 0.25em;background-color: #f0f8ff;}#sk-container-id-4 input.sk-toggleable__control:checked~div.sk-toggleable__content {max-height: 200px;max-width: 100%;overflow: auto;}#sk-container-id-4 input.sk-toggleable__control:checked~label.sk-toggleable__label-arrow:before {content: \"▾\";}#sk-container-id-4 div.sk-estimator input.sk-toggleable__control:checked~label.sk-toggleable__label {background-color: #d4ebff;}#sk-container-id-4 div.sk-label input.sk-toggleable__control:checked~label.sk-toggleable__label {background-color: #d4ebff;}#sk-container-id-4 input.sk-hidden--visually {border: 0;clip: rect(1px 1px 1px 1px);clip: rect(1px, 1px, 1px, 1px);height: 1px;margin: -1px;overflow: hidden;padding: 0;position: absolute;width: 1px;}#sk-container-id-4 div.sk-estimator {font-family: monospace;background-color: #f0f8ff;border: 1px dotted black;border-radius: 0.25em;box-sizing: border-box;margin-bottom: 0.5em;}#sk-container-id-4 div.sk-estimator:hover {background-color: #d4ebff;}#sk-container-id-4 div.sk-parallel-item::after {content: \"\";width: 100%;border-bottom: 1px solid gray;flex-grow: 1;}#sk-container-id-4 div.sk-label:hover label.sk-toggleable__label {background-color: #d4ebff;}#sk-container-id-4 div.sk-serial::before {content: \"\";position: absolute;border-left: 1px solid gray;box-sizing: border-box;top: 0;bottom: 0;left: 50%;z-index: 0;}#sk-container-id-4 div.sk-serial {display: flex;flex-direction: column;align-items: center;background-color: white;padding-right: 0.2em;padding-left: 0.2em;position: relative;}#sk-container-id-4 div.sk-item {position: relative;z-index: 1;}#sk-container-id-4 div.sk-parallel {display: flex;align-items: stretch;justify-content: center;background-color: white;position: relative;}#sk-container-id-4 div.sk-item::before, #sk-container-id-4 div.sk-parallel-item::before {content: \"\";position: absolute;border-left: 1px solid gray;box-sizing: border-box;top: 0;bottom: 0;left: 50%;z-index: -1;}#sk-container-id-4 div.sk-parallel-item {display: flex;flex-direction: column;z-index: 1;position: relative;background-color: white;}#sk-container-id-4 div.sk-parallel-item:first-child::after {align-self: flex-end;width: 50%;}#sk-container-id-4 div.sk-parallel-item:last-child::after {align-self: flex-start;width: 50%;}#sk-container-id-4 div.sk-parallel-item:only-child::after {width: 0;}#sk-container-id-4 div.sk-dashed-wrapped {border: 1px dashed gray;margin: 0 0.4em 0.5em 0.4em;box-sizing: border-box;padding-bottom: 0.4em;background-color: white;}#sk-container-id-4 div.sk-label label {font-family: monospace;font-weight: bold;display: inline-block;line-height: 1.2em;}#sk-container-id-4 div.sk-label-container {text-align: center;}#sk-container-id-4 div.sk-container {/* jupyter's `normalize.less` sets `[hidden] { display: none; }` but bootstrap.min.css set `[hidden] { display: none !important; }` so we also need the `!important` here to be able to override the default hidden behavior on the sphinx rendered scikit-learn.org. See: https://github.com/scikit-learn/scikit-learn/issues/21755 */display: inline-block !important;position: relative;}#sk-container-id-4 div.sk-text-repr-fallback {display: none;}</style><div id=\"sk-container-id-4\" class=\"sk-top-container\"><div class=\"sk-text-repr-fallback\"><pre>Lasso()</pre><b>In a Jupyter environment, please rerun this cell to show the HTML representation or trust the notebook. <br />On GitHub, the HTML representation is unable to render, please try loading this page with nbviewer.org.</b></div><div class=\"sk-container\" hidden><div class=\"sk-item\"><div class=\"sk-estimator sk-toggleable\"><input class=\"sk-toggleable__control sk-hidden--visually\" id=\"sk-estimator-id-4\" type=\"checkbox\" checked><label for=\"sk-estimator-id-4\" class=\"sk-toggleable__label sk-toggleable__label-arrow\">Lasso</label><div class=\"sk-toggleable__content\"><pre>Lasso()</pre></div></div></div></div></div>"
      ],
      "text/plain": [
       "Lasso()"
      ]
     },
     "execution_count": 81,
     "metadata": {},
     "output_type": "execute_result"
    }
   ],
   "source": [
    "ls"
   ]
  },
  {
   "cell_type": "code",
   "execution_count": 82,
   "id": "8b0f153b",
   "metadata": {},
   "outputs": [],
   "source": [
    "import pickle"
   ]
  },
  {
   "cell_type": "code",
   "execution_count": 83,
   "id": "3582e416",
   "metadata": {},
   "outputs": [],
   "source": [
    "pickle.dump(ss,open('scaler.pkl','wb'))\n",
    "pickle.dump(ls,open('lasso.pkl','wb'))"
   ]
  },
  {
   "cell_type": "code",
   "execution_count": null,
   "id": "d8ea6908",
   "metadata": {},
   "outputs": [],
   "source": []
  }
 ],
 "metadata": {
  "kernelspec": {
   "display_name": "Python 3 (ipykernel)",
   "language": "python",
   "name": "python3"
  },
  "language_info": {
   "codemirror_mode": {
    "name": "ipython",
    "version": 3
   },
   "file_extension": ".py",
   "mimetype": "text/x-python",
   "name": "python",
   "nbconvert_exporter": "python",
   "pygments_lexer": "ipython3",
   "version": "3.10.9"
  }
 },
 "nbformat": 4,
 "nbformat_minor": 5
}
